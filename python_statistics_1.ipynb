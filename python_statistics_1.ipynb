{
 "cells": [
  {
   "cell_type": "code",
   "execution_count": 5,
   "id": "662b5d5c",
   "metadata": {},
   "outputs": [],
   "source": [
    "data=[23,24,32,45,12,43,67,45,32,56,32]\n"
   ]
  },
  {
   "cell_type": "code",
   "execution_count": 6,
   "id": "8ff1464f",
   "metadata": {},
   "outputs": [
    {
     "data": {
      "text/plain": [
       "[23, 24, 32, 45, 12, 43, 67, 45, 32, 56, 32]"
      ]
     },
     "execution_count": 6,
     "metadata": {},
     "output_type": "execute_result"
    }
   ],
   "source": [
    "data"
   ]
  },
  {
   "cell_type": "code",
   "execution_count": 7,
   "id": "313a8608",
   "metadata": {},
   "outputs": [],
   "source": [
    "import pandas as pd \n",
    "data2=pd.read_csv(\"https://raw.githubusercontent.com/sunnysavita10/Statistics_With_Python/main/Iris.csv\")"
   ]
  },
  {
   "cell_type": "code",
   "execution_count": 8,
   "id": "0ff7e436",
   "metadata": {},
   "outputs": [
    {
     "data": {
      "text/html": [
       "<div>\n",
       "<style scoped>\n",
       "    .dataframe tbody tr th:only-of-type {\n",
       "        vertical-align: middle;\n",
       "    }\n",
       "\n",
       "    .dataframe tbody tr th {\n",
       "        vertical-align: top;\n",
       "    }\n",
       "\n",
       "    .dataframe thead th {\n",
       "        text-align: right;\n",
       "    }\n",
       "</style>\n",
       "<table border=\"1\" class=\"dataframe\">\n",
       "  <thead>\n",
       "    <tr style=\"text-align: right;\">\n",
       "      <th></th>\n",
       "      <th>Id</th>\n",
       "      <th>SepalLengthCm</th>\n",
       "      <th>SepalWidthCm</th>\n",
       "      <th>PetalLengthCm</th>\n",
       "      <th>PetalWidthCm</th>\n",
       "      <th>Species</th>\n",
       "    </tr>\n",
       "  </thead>\n",
       "  <tbody>\n",
       "    <tr>\n",
       "      <th>0</th>\n",
       "      <td>1</td>\n",
       "      <td>5.1</td>\n",
       "      <td>3.5</td>\n",
       "      <td>1.4</td>\n",
       "      <td>0.2</td>\n",
       "      <td>Iris-setosa</td>\n",
       "    </tr>\n",
       "    <tr>\n",
       "      <th>1</th>\n",
       "      <td>2</td>\n",
       "      <td>4.9</td>\n",
       "      <td>3.0</td>\n",
       "      <td>1.4</td>\n",
       "      <td>0.2</td>\n",
       "      <td>Iris-setosa</td>\n",
       "    </tr>\n",
       "    <tr>\n",
       "      <th>2</th>\n",
       "      <td>3</td>\n",
       "      <td>4.7</td>\n",
       "      <td>3.2</td>\n",
       "      <td>1.3</td>\n",
       "      <td>0.2</td>\n",
       "      <td>Iris-setosa</td>\n",
       "    </tr>\n",
       "    <tr>\n",
       "      <th>3</th>\n",
       "      <td>4</td>\n",
       "      <td>4.6</td>\n",
       "      <td>3.1</td>\n",
       "      <td>1.5</td>\n",
       "      <td>0.2</td>\n",
       "      <td>Iris-setosa</td>\n",
       "    </tr>\n",
       "    <tr>\n",
       "      <th>4</th>\n",
       "      <td>5</td>\n",
       "      <td>5.0</td>\n",
       "      <td>3.6</td>\n",
       "      <td>1.4</td>\n",
       "      <td>0.2</td>\n",
       "      <td>Iris-setosa</td>\n",
       "    </tr>\n",
       "    <tr>\n",
       "      <th>...</th>\n",
       "      <td>...</td>\n",
       "      <td>...</td>\n",
       "      <td>...</td>\n",
       "      <td>...</td>\n",
       "      <td>...</td>\n",
       "      <td>...</td>\n",
       "    </tr>\n",
       "    <tr>\n",
       "      <th>145</th>\n",
       "      <td>146</td>\n",
       "      <td>6.7</td>\n",
       "      <td>3.0</td>\n",
       "      <td>5.2</td>\n",
       "      <td>2.3</td>\n",
       "      <td>Iris-virginica</td>\n",
       "    </tr>\n",
       "    <tr>\n",
       "      <th>146</th>\n",
       "      <td>147</td>\n",
       "      <td>6.3</td>\n",
       "      <td>2.5</td>\n",
       "      <td>5.0</td>\n",
       "      <td>1.9</td>\n",
       "      <td>Iris-virginica</td>\n",
       "    </tr>\n",
       "    <tr>\n",
       "      <th>147</th>\n",
       "      <td>148</td>\n",
       "      <td>6.5</td>\n",
       "      <td>3.0</td>\n",
       "      <td>5.2</td>\n",
       "      <td>2.0</td>\n",
       "      <td>Iris-virginica</td>\n",
       "    </tr>\n",
       "    <tr>\n",
       "      <th>148</th>\n",
       "      <td>149</td>\n",
       "      <td>6.2</td>\n",
       "      <td>3.4</td>\n",
       "      <td>5.4</td>\n",
       "      <td>2.3</td>\n",
       "      <td>Iris-virginica</td>\n",
       "    </tr>\n",
       "    <tr>\n",
       "      <th>149</th>\n",
       "      <td>150</td>\n",
       "      <td>5.9</td>\n",
       "      <td>3.0</td>\n",
       "      <td>5.1</td>\n",
       "      <td>1.8</td>\n",
       "      <td>Iris-virginica</td>\n",
       "    </tr>\n",
       "  </tbody>\n",
       "</table>\n",
       "<p>150 rows × 6 columns</p>\n",
       "</div>"
      ],
      "text/plain": [
       "      Id  SepalLengthCm  SepalWidthCm  PetalLengthCm  PetalWidthCm  \\\n",
       "0      1            5.1           3.5            1.4           0.2   \n",
       "1      2            4.9           3.0            1.4           0.2   \n",
       "2      3            4.7           3.2            1.3           0.2   \n",
       "3      4            4.6           3.1            1.5           0.2   \n",
       "4      5            5.0           3.6            1.4           0.2   \n",
       "..   ...            ...           ...            ...           ...   \n",
       "145  146            6.7           3.0            5.2           2.3   \n",
       "146  147            6.3           2.5            5.0           1.9   \n",
       "147  148            6.5           3.0            5.2           2.0   \n",
       "148  149            6.2           3.4            5.4           2.3   \n",
       "149  150            5.9           3.0            5.1           1.8   \n",
       "\n",
       "            Species  \n",
       "0       Iris-setosa  \n",
       "1       Iris-setosa  \n",
       "2       Iris-setosa  \n",
       "3       Iris-setosa  \n",
       "4       Iris-setosa  \n",
       "..              ...  \n",
       "145  Iris-virginica  \n",
       "146  Iris-virginica  \n",
       "147  Iris-virginica  \n",
       "148  Iris-virginica  \n",
       "149  Iris-virginica  \n",
       "\n",
       "[150 rows x 6 columns]"
      ]
     },
     "execution_count": 8,
     "metadata": {},
     "output_type": "execute_result"
    }
   ],
   "source": [
    "data2"
   ]
  },
  {
   "cell_type": "code",
   "execution_count": 9,
   "id": "455f7507",
   "metadata": {},
   "outputs": [],
   "source": [
    "data3=pd.read_csv(\"https://raw.githubusercontent.com/sunnysavita10/Statistics_With_Python/main/Titanic.csv\")"
   ]
  },
  {
   "cell_type": "code",
   "execution_count": 10,
   "id": "f7316239",
   "metadata": {},
   "outputs": [
    {
     "data": {
      "text/html": [
       "<div>\n",
       "<style scoped>\n",
       "    .dataframe tbody tr th:only-of-type {\n",
       "        vertical-align: middle;\n",
       "    }\n",
       "\n",
       "    .dataframe tbody tr th {\n",
       "        vertical-align: top;\n",
       "    }\n",
       "\n",
       "    .dataframe thead th {\n",
       "        text-align: right;\n",
       "    }\n",
       "</style>\n",
       "<table border=\"1\" class=\"dataframe\">\n",
       "  <thead>\n",
       "    <tr style=\"text-align: right;\">\n",
       "      <th></th>\n",
       "      <th>PassengerId</th>\n",
       "      <th>Survived</th>\n",
       "      <th>Pclass</th>\n",
       "      <th>Name</th>\n",
       "      <th>Sex</th>\n",
       "      <th>Age</th>\n",
       "      <th>SibSp</th>\n",
       "      <th>Parch</th>\n",
       "      <th>Ticket</th>\n",
       "      <th>Fare</th>\n",
       "      <th>Cabin</th>\n",
       "      <th>Embarked</th>\n",
       "    </tr>\n",
       "  </thead>\n",
       "  <tbody>\n",
       "    <tr>\n",
       "      <th>0</th>\n",
       "      <td>1</td>\n",
       "      <td>0</td>\n",
       "      <td>3</td>\n",
       "      <td>Braund, Mr. Owen Harris</td>\n",
       "      <td>male</td>\n",
       "      <td>22.0</td>\n",
       "      <td>1</td>\n",
       "      <td>0</td>\n",
       "      <td>A/5 21171</td>\n",
       "      <td>7.2500</td>\n",
       "      <td>NaN</td>\n",
       "      <td>S</td>\n",
       "    </tr>\n",
       "    <tr>\n",
       "      <th>1</th>\n",
       "      <td>2</td>\n",
       "      <td>1</td>\n",
       "      <td>1</td>\n",
       "      <td>Cumings, Mrs. John Bradley (Florence Briggs Th...</td>\n",
       "      <td>female</td>\n",
       "      <td>38.0</td>\n",
       "      <td>1</td>\n",
       "      <td>0</td>\n",
       "      <td>PC 17599</td>\n",
       "      <td>71.2833</td>\n",
       "      <td>C85</td>\n",
       "      <td>C</td>\n",
       "    </tr>\n",
       "    <tr>\n",
       "      <th>2</th>\n",
       "      <td>3</td>\n",
       "      <td>1</td>\n",
       "      <td>3</td>\n",
       "      <td>Heikkinen, Miss. Laina</td>\n",
       "      <td>female</td>\n",
       "      <td>26.0</td>\n",
       "      <td>0</td>\n",
       "      <td>0</td>\n",
       "      <td>STON/O2. 3101282</td>\n",
       "      <td>7.9250</td>\n",
       "      <td>NaN</td>\n",
       "      <td>S</td>\n",
       "    </tr>\n",
       "    <tr>\n",
       "      <th>3</th>\n",
       "      <td>4</td>\n",
       "      <td>1</td>\n",
       "      <td>1</td>\n",
       "      <td>Futrelle, Mrs. Jacques Heath (Lily May Peel)</td>\n",
       "      <td>female</td>\n",
       "      <td>35.0</td>\n",
       "      <td>1</td>\n",
       "      <td>0</td>\n",
       "      <td>113803</td>\n",
       "      <td>53.1000</td>\n",
       "      <td>C123</td>\n",
       "      <td>S</td>\n",
       "    </tr>\n",
       "    <tr>\n",
       "      <th>4</th>\n",
       "      <td>5</td>\n",
       "      <td>0</td>\n",
       "      <td>3</td>\n",
       "      <td>Allen, Mr. William Henry</td>\n",
       "      <td>male</td>\n",
       "      <td>35.0</td>\n",
       "      <td>0</td>\n",
       "      <td>0</td>\n",
       "      <td>373450</td>\n",
       "      <td>8.0500</td>\n",
       "      <td>NaN</td>\n",
       "      <td>S</td>\n",
       "    </tr>\n",
       "    <tr>\n",
       "      <th>...</th>\n",
       "      <td>...</td>\n",
       "      <td>...</td>\n",
       "      <td>...</td>\n",
       "      <td>...</td>\n",
       "      <td>...</td>\n",
       "      <td>...</td>\n",
       "      <td>...</td>\n",
       "      <td>...</td>\n",
       "      <td>...</td>\n",
       "      <td>...</td>\n",
       "      <td>...</td>\n",
       "      <td>...</td>\n",
       "    </tr>\n",
       "    <tr>\n",
       "      <th>886</th>\n",
       "      <td>887</td>\n",
       "      <td>0</td>\n",
       "      <td>2</td>\n",
       "      <td>Montvila, Rev. Juozas</td>\n",
       "      <td>male</td>\n",
       "      <td>27.0</td>\n",
       "      <td>0</td>\n",
       "      <td>0</td>\n",
       "      <td>211536</td>\n",
       "      <td>13.0000</td>\n",
       "      <td>NaN</td>\n",
       "      <td>S</td>\n",
       "    </tr>\n",
       "    <tr>\n",
       "      <th>887</th>\n",
       "      <td>888</td>\n",
       "      <td>1</td>\n",
       "      <td>1</td>\n",
       "      <td>Graham, Miss. Margaret Edith</td>\n",
       "      <td>female</td>\n",
       "      <td>19.0</td>\n",
       "      <td>0</td>\n",
       "      <td>0</td>\n",
       "      <td>112053</td>\n",
       "      <td>30.0000</td>\n",
       "      <td>B42</td>\n",
       "      <td>S</td>\n",
       "    </tr>\n",
       "    <tr>\n",
       "      <th>888</th>\n",
       "      <td>889</td>\n",
       "      <td>0</td>\n",
       "      <td>3</td>\n",
       "      <td>Johnston, Miss. Catherine Helen \"Carrie\"</td>\n",
       "      <td>female</td>\n",
       "      <td>NaN</td>\n",
       "      <td>1</td>\n",
       "      <td>2</td>\n",
       "      <td>W./C. 6607</td>\n",
       "      <td>23.4500</td>\n",
       "      <td>NaN</td>\n",
       "      <td>S</td>\n",
       "    </tr>\n",
       "    <tr>\n",
       "      <th>889</th>\n",
       "      <td>890</td>\n",
       "      <td>1</td>\n",
       "      <td>1</td>\n",
       "      <td>Behr, Mr. Karl Howell</td>\n",
       "      <td>male</td>\n",
       "      <td>26.0</td>\n",
       "      <td>0</td>\n",
       "      <td>0</td>\n",
       "      <td>111369</td>\n",
       "      <td>30.0000</td>\n",
       "      <td>C148</td>\n",
       "      <td>C</td>\n",
       "    </tr>\n",
       "    <tr>\n",
       "      <th>890</th>\n",
       "      <td>891</td>\n",
       "      <td>0</td>\n",
       "      <td>3</td>\n",
       "      <td>Dooley, Mr. Patrick</td>\n",
       "      <td>male</td>\n",
       "      <td>32.0</td>\n",
       "      <td>0</td>\n",
       "      <td>0</td>\n",
       "      <td>370376</td>\n",
       "      <td>7.7500</td>\n",
       "      <td>NaN</td>\n",
       "      <td>Q</td>\n",
       "    </tr>\n",
       "  </tbody>\n",
       "</table>\n",
       "<p>891 rows × 12 columns</p>\n",
       "</div>"
      ],
      "text/plain": [
       "     PassengerId  Survived  Pclass  \\\n",
       "0              1         0       3   \n",
       "1              2         1       1   \n",
       "2              3         1       3   \n",
       "3              4         1       1   \n",
       "4              5         0       3   \n",
       "..           ...       ...     ...   \n",
       "886          887         0       2   \n",
       "887          888         1       1   \n",
       "888          889         0       3   \n",
       "889          890         1       1   \n",
       "890          891         0       3   \n",
       "\n",
       "                                                  Name     Sex   Age  SibSp  \\\n",
       "0                              Braund, Mr. Owen Harris    male  22.0      1   \n",
       "1    Cumings, Mrs. John Bradley (Florence Briggs Th...  female  38.0      1   \n",
       "2                               Heikkinen, Miss. Laina  female  26.0      0   \n",
       "3         Futrelle, Mrs. Jacques Heath (Lily May Peel)  female  35.0      1   \n",
       "4                             Allen, Mr. William Henry    male  35.0      0   \n",
       "..                                                 ...     ...   ...    ...   \n",
       "886                              Montvila, Rev. Juozas    male  27.0      0   \n",
       "887                       Graham, Miss. Margaret Edith  female  19.0      0   \n",
       "888           Johnston, Miss. Catherine Helen \"Carrie\"  female   NaN      1   \n",
       "889                              Behr, Mr. Karl Howell    male  26.0      0   \n",
       "890                                Dooley, Mr. Patrick    male  32.0      0   \n",
       "\n",
       "     Parch            Ticket     Fare Cabin Embarked  \n",
       "0        0         A/5 21171   7.2500   NaN        S  \n",
       "1        0          PC 17599  71.2833   C85        C  \n",
       "2        0  STON/O2. 3101282   7.9250   NaN        S  \n",
       "3        0            113803  53.1000  C123        S  \n",
       "4        0            373450   8.0500   NaN        S  \n",
       "..     ...               ...      ...   ...      ...  \n",
       "886      0            211536  13.0000   NaN        S  \n",
       "887      0            112053  30.0000   B42        S  \n",
       "888      2        W./C. 6607  23.4500   NaN        S  \n",
       "889      0            111369  30.0000  C148        C  \n",
       "890      0            370376   7.7500   NaN        Q  \n",
       "\n",
       "[891 rows x 12 columns]"
      ]
     },
     "execution_count": 10,
     "metadata": {},
     "output_type": "execute_result"
    }
   ],
   "source": [
    "data3"
   ]
  },
  {
   "cell_type": "code",
   "execution_count": 11,
   "id": "547d88bc",
   "metadata": {},
   "outputs": [
    {
     "data": {
      "text/plain": [
       "[23, 24, 32, 45, 12, 43, 67, 45, 32, 56, 32]"
      ]
     },
     "execution_count": 11,
     "metadata": {},
     "output_type": "execute_result"
    }
   ],
   "source": [
    "data\n"
   ]
  },
  {
   "cell_type": "code",
   "execution_count": 12,
   "id": "930f0125",
   "metadata": {},
   "outputs": [],
   "source": [
    "data_copy=data.copy()"
   ]
  },
  {
   "cell_type": "code",
   "execution_count": 13,
   "id": "9e028176",
   "metadata": {},
   "outputs": [
    {
     "data": {
      "text/plain": [
       "[23, 24, 32, 45, 12, 43, 67, 45, 32, 56, 32]"
      ]
     },
     "execution_count": 13,
     "metadata": {},
     "output_type": "execute_result"
    }
   ],
   "source": [
    "data_copy"
   ]
  },
  {
   "cell_type": "code",
   "execution_count": 14,
   "id": "cffe1657",
   "metadata": {},
   "outputs": [],
   "source": [
    "data_copy.sort()"
   ]
  },
  {
   "cell_type": "code",
   "execution_count": 15,
   "id": "62370829",
   "metadata": {},
   "outputs": [
    {
     "data": {
      "text/plain": [
       "[12, 23, 24, 32, 32, 32, 43, 45, 45, 56, 67]"
      ]
     },
     "execution_count": 15,
     "metadata": {},
     "output_type": "execute_result"
    }
   ],
   "source": [
    "data_copy"
   ]
  },
  {
   "cell_type": "code",
   "execution_count": 16,
   "id": "c3517dab",
   "metadata": {},
   "outputs": [],
   "source": [
    "#librarey\n",
    "\n",
    "#pandas\n",
    "#numpy\n",
    "#matplotlib and seaborn\n",
    "#scipy\n",
    "#statsmodel\n",
    "#stastictics"
   ]
  },
  {
   "cell_type": "code",
   "execution_count": 17,
   "id": "e746219f",
   "metadata": {},
   "outputs": [],
   "source": [
    "# mean \n",
    "# median\n",
    "# Mode"
   ]
  },
  {
   "cell_type": "code",
   "execution_count": 18,
   "id": "a8cff333",
   "metadata": {},
   "outputs": [
    {
     "data": {
      "text/plain": [
       "37.36363636363637"
      ]
     },
     "execution_count": 18,
     "metadata": {},
     "output_type": "execute_result"
    }
   ],
   "source": [
    "import numpy as np\n",
    "np.mean(data)"
   ]
  },
  {
   "cell_type": "code",
   "execution_count": 19,
   "id": "e36d56b9",
   "metadata": {},
   "outputs": [
    {
     "data": {
      "text/plain": [
       "32.0"
      ]
     },
     "execution_count": 19,
     "metadata": {},
     "output_type": "execute_result"
    }
   ],
   "source": [
    "np.median(data)"
   ]
  },
  {
   "cell_type": "code",
   "execution_count": 20,
   "id": "73148cdc",
   "metadata": {},
   "outputs": [
    {
     "data": {
      "text/plain": [
       "5.843333333333335"
      ]
     },
     "execution_count": 20,
     "metadata": {},
     "output_type": "execute_result"
    }
   ],
   "source": [
    "np.mean(data2[\"SepalLengthCm\"])"
   ]
  },
  {
   "cell_type": "code",
   "execution_count": 21,
   "id": "9474c1c2",
   "metadata": {},
   "outputs": [
    {
     "data": {
      "text/plain": [
       "5.8"
      ]
     },
     "execution_count": 21,
     "metadata": {},
     "output_type": "execute_result"
    }
   ],
   "source": [
    "np.median(data2[\"SepalLengthCm\"])"
   ]
  },
  {
   "cell_type": "code",
   "execution_count": 22,
   "id": "6698612e",
   "metadata": {},
   "outputs": [
    {
     "ename": "AttributeError",
     "evalue": "module 'numpy' has no attribute 'mode'",
     "output_type": "error",
     "traceback": [
      "\u001b[1;31m---------------------------------------------------------------------------\u001b[0m",
      "\u001b[1;31mAttributeError\u001b[0m                            Traceback (most recent call last)",
      "\u001b[1;32m~\\AppData\\Local\\Temp\\ipykernel_17192\\3425841321.py\u001b[0m in \u001b[0;36m<module>\u001b[1;34m\u001b[0m\n\u001b[1;32m----> 1\u001b[1;33m \u001b[0mnp\u001b[0m\u001b[1;33m.\u001b[0m\u001b[0mmode\u001b[0m\u001b[1;33m(\u001b[0m\u001b[0mdata\u001b[0m\u001b[1;33m)\u001b[0m\u001b[1;33m\u001b[0m\u001b[1;33m\u001b[0m\u001b[0m\n\u001b[0m",
      "\u001b[1;32m~\\anaconda3\\lib\\site-packages\\numpy\\__init__.py\u001b[0m in \u001b[0;36m__getattr__\u001b[1;34m(attr)\u001b[0m\n\u001b[0;32m    311\u001b[0m                 \u001b[1;32mreturn\u001b[0m \u001b[0mTester\u001b[0m\u001b[1;33m\u001b[0m\u001b[1;33m\u001b[0m\u001b[0m\n\u001b[0;32m    312\u001b[0m \u001b[1;33m\u001b[0m\u001b[0m\n\u001b[1;32m--> 313\u001b[1;33m             raise AttributeError(\"module {!r} has no attribute \"\n\u001b[0m\u001b[0;32m    314\u001b[0m                                  \"{!r}\".format(__name__, attr))\n\u001b[0;32m    315\u001b[0m \u001b[1;33m\u001b[0m\u001b[0m\n",
      "\u001b[1;31mAttributeError\u001b[0m: module 'numpy' has no attribute 'mode'"
     ]
    }
   ],
   "source": [
    "np.mode(data)"
   ]
  },
  {
   "cell_type": "code",
   "execution_count": 23,
   "id": "41b172ba",
   "metadata": {},
   "outputs": [],
   "source": [
    "import statistics"
   ]
  },
  {
   "cell_type": "code",
   "execution_count": 24,
   "id": "81e09a21",
   "metadata": {},
   "outputs": [
    {
     "data": {
      "text/plain": [
       "32"
      ]
     },
     "execution_count": 24,
     "metadata": {},
     "output_type": "execute_result"
    }
   ],
   "source": [
    "statistics.mode(data)"
   ]
  },
  {
   "cell_type": "code",
   "execution_count": 25,
   "id": "811480e3",
   "metadata": {},
   "outputs": [
    {
     "name": "stderr",
     "output_type": "stream",
     "text": [
      "C:\\Users\\suchi\\AppData\\Local\\Temp\\ipykernel_17192\\3794622683.py:2: FutureWarning: Unlike other reduction functions (e.g. `skew`, `kurtosis`), the default behavior of `mode` typically preserves the axis it acts along. In SciPy 1.11.0, this behavior will change: the default value of `keepdims` will become False, the `axis` over which the statistic is taken will be eliminated, and the value None will no longer be accepted. Set `keepdims` to True or False to avoid this warning.\n",
      "  st.mode(data)\n"
     ]
    },
    {
     "data": {
      "text/plain": [
       "ModeResult(mode=array([32]), count=array([3]))"
      ]
     },
     "execution_count": 25,
     "metadata": {},
     "output_type": "execute_result"
    }
   ],
   "source": [
    "from scipy import stats as st\n",
    "st.mode(data)"
   ]
  },
  {
   "cell_type": "code",
   "execution_count": 26,
   "id": "f76aade8",
   "metadata": {},
   "outputs": [],
   "source": [
    "def mean(data):\n",
    "    sum=0\n",
    "    for i in data:\n",
    "        sum=sum+i\n",
    "    mean=sum/len(data)\n",
    "    return mean"
   ]
  },
  {
   "cell_type": "code",
   "execution_count": 27,
   "id": "d0610fd1",
   "metadata": {},
   "outputs": [
    {
     "data": {
      "text/plain": [
       "37.36363636363637"
      ]
     },
     "execution_count": 27,
     "metadata": {},
     "output_type": "execute_result"
    }
   ],
   "source": [
    "mean(data)"
   ]
  },
  {
   "cell_type": "code",
   "execution_count": 28,
   "id": "ec343b1c",
   "metadata": {},
   "outputs": [],
   "source": [
    "data_copy.append(150)\n"
   ]
  },
  {
   "cell_type": "code",
   "execution_count": 29,
   "id": "4ba3860a",
   "metadata": {},
   "outputs": [
    {
     "data": {
      "text/plain": [
       "[12, 23, 24, 32, 32, 32, 43, 45, 45, 56, 67, 150]"
      ]
     },
     "execution_count": 29,
     "metadata": {},
     "output_type": "execute_result"
    }
   ],
   "source": [
    "data_copy"
   ]
  },
  {
   "cell_type": "code",
   "execution_count": 30,
   "id": "61b3452b",
   "metadata": {},
   "outputs": [],
   "source": [
    "data_copy2=data.copy()"
   ]
  },
  {
   "cell_type": "code",
   "execution_count": 31,
   "id": "9d5aa887",
   "metadata": {},
   "outputs": [],
   "source": [
    "data_copy2.append(75)"
   ]
  },
  {
   "cell_type": "code",
   "execution_count": 32,
   "id": "c0ff400e",
   "metadata": {},
   "outputs": [
    {
     "data": {
      "text/plain": [
       "40.5"
      ]
     },
     "execution_count": 32,
     "metadata": {},
     "output_type": "execute_result"
    }
   ],
   "source": [
    "np.mean(data_copy2)"
   ]
  },
  {
   "cell_type": "code",
   "execution_count": 33,
   "id": "2e5c3c8a",
   "metadata": {},
   "outputs": [
    {
     "data": {
      "text/plain": [
       "46.75"
      ]
     },
     "execution_count": 33,
     "metadata": {},
     "output_type": "execute_result"
    }
   ],
   "source": [
    "np.mean(data_copy)"
   ]
  },
  {
   "cell_type": "code",
   "execution_count": 34,
   "id": "e96c0ece",
   "metadata": {},
   "outputs": [
    {
     "data": {
      "text/plain": [
       "32.0"
      ]
     },
     "execution_count": 34,
     "metadata": {},
     "output_type": "execute_result"
    }
   ],
   "source": [
    "np.median(data)"
   ]
  },
  {
   "cell_type": "code",
   "execution_count": 35,
   "id": "a9de5777",
   "metadata": {},
   "outputs": [
    {
     "data": {
      "text/plain": [
       "37.5"
      ]
     },
     "execution_count": 35,
     "metadata": {},
     "output_type": "execute_result"
    }
   ],
   "source": [
    "np.median(data_copy)"
   ]
  },
  {
   "cell_type": "code",
   "execution_count": 36,
   "id": "9b4d0763",
   "metadata": {},
   "outputs": [
    {
     "data": {
      "text/plain": [
       "37.5"
      ]
     },
     "execution_count": 36,
     "metadata": {},
     "output_type": "execute_result"
    }
   ],
   "source": [
    "np.median(data_copy2)"
   ]
  },
  {
   "cell_type": "code",
   "execution_count": 37,
   "id": "3a66cd48",
   "metadata": {},
   "outputs": [],
   "source": [
    "# Dispersion\n"
   ]
  },
  {
   "cell_type": "code",
   "execution_count": 38,
   "id": "c5b7549f",
   "metadata": {},
   "outputs": [
    {
     "data": {
      "text/plain": [
       "[23, 24, 32, 45, 12, 43, 67, 45, 32, 56, 32]"
      ]
     },
     "execution_count": 38,
     "metadata": {},
     "output_type": "execute_result"
    }
   ],
   "source": [
    "data"
   ]
  },
  {
   "cell_type": "code",
   "execution_count": 39,
   "id": "bcd4fc04",
   "metadata": {},
   "outputs": [
    {
     "data": {
      "text/plain": [
       "[12, 23, 24, 32, 32, 32, 43, 45, 45, 56, 67, 150]"
      ]
     },
     "execution_count": 39,
     "metadata": {},
     "output_type": "execute_result"
    }
   ],
   "source": [
    "data_copy"
   ]
  },
  {
   "cell_type": "code",
   "execution_count": 40,
   "id": "a795804f",
   "metadata": {},
   "outputs": [
    {
     "data": {
      "text/plain": [
       "150"
      ]
     },
     "execution_count": 40,
     "metadata": {},
     "output_type": "execute_result"
    }
   ],
   "source": [
    "data_copy.pop()"
   ]
  },
  {
   "cell_type": "code",
   "execution_count": 41,
   "id": "3c46b991",
   "metadata": {},
   "outputs": [
    {
     "data": {
      "text/plain": [
       "[12, 23, 24, 32, 32, 32, 43, 45, 45, 56, 67]"
      ]
     },
     "execution_count": 41,
     "metadata": {},
     "output_type": "execute_result"
    }
   ],
   "source": [
    "data_copy"
   ]
  },
  {
   "cell_type": "code",
   "execution_count": 42,
   "id": "444cb905",
   "metadata": {},
   "outputs": [
    {
     "data": {
      "text/plain": [
       "array([28.])"
      ]
     },
     "execution_count": 42,
     "metadata": {},
     "output_type": "execute_result"
    }
   ],
   "source": [
    "np.percentile(data,[25])"
   ]
  },
  {
   "cell_type": "code",
   "execution_count": 43,
   "id": "31f93068",
   "metadata": {},
   "outputs": [
    {
     "data": {
      "text/plain": [
       "array([32.])"
      ]
     },
     "execution_count": 43,
     "metadata": {},
     "output_type": "execute_result"
    }
   ],
   "source": [
    "np.percentile(data,[50])"
   ]
  },
  {
   "cell_type": "code",
   "execution_count": 44,
   "id": "684aac7e",
   "metadata": {},
   "outputs": [
    {
     "data": {
      "text/plain": [
       "array([45.])"
      ]
     },
     "execution_count": 44,
     "metadata": {},
     "output_type": "execute_result"
    }
   ],
   "source": [
    "np.percentile(data,[75])"
   ]
  },
  {
   "cell_type": "code",
   "execution_count": 45,
   "id": "1943eea8",
   "metadata": {},
   "outputs": [
    {
     "data": {
      "text/plain": [
       "array([28., 32., 45., 67.])"
      ]
     },
     "execution_count": 45,
     "metadata": {},
     "output_type": "execute_result"
    }
   ],
   "source": [
    "np.percentile(data,[25,50,75,100])"
   ]
  },
  {
   "cell_type": "code",
   "execution_count": 46,
   "id": "085a0edc",
   "metadata": {},
   "outputs": [],
   "source": [
    "# q1,q2,q3,q4\n",
    "\n",
    "# IQR=q3-q1\n",
    "\n",
    "#lower_fence=q1-iqr*1.5\n",
    "# upper_fence=q3-iqr*1.5"
   ]
  },
  {
   "cell_type": "code",
   "execution_count": 47,
   "id": "8f03c116",
   "metadata": {},
   "outputs": [],
   "source": [
    "data_copy.append(150)"
   ]
  },
  {
   "cell_type": "code",
   "execution_count": 48,
   "id": "8d7f8343",
   "metadata": {},
   "outputs": [
    {
     "data": {
      "text/plain": [
       "[12, 23, 24, 32, 32, 32, 43, 45, 45, 56, 67, 150]"
      ]
     },
     "execution_count": 48,
     "metadata": {},
     "output_type": "execute_result"
    }
   ],
   "source": [
    "data_copy"
   ]
  },
  {
   "cell_type": "code",
   "execution_count": 49,
   "id": "10c41d9d",
   "metadata": {},
   "outputs": [
    {
     "name": "stderr",
     "output_type": "stream",
     "text": [
      "C:\\Users\\suchi\\anaconda3\\lib\\site-packages\\seaborn\\_decorators.py:36: FutureWarning: Pass the following variable as a keyword arg: x. From version 0.12, the only valid positional argument will be `data`, and passing other arguments without an explicit keyword will result in an error or misinterpretation.\n",
      "  warnings.warn(\n"
     ]
    },
    {
     "data": {
      "text/plain": [
       "<AxesSubplot:>"
      ]
     },
     "execution_count": 49,
     "metadata": {},
     "output_type": "execute_result"
    },
    {
     "data": {
      "image/png": "[encoded data removed]",
      "text/plain": [
       "<Figure size 640x480 with 1 Axes>"
      ]
     },
     "metadata": {},
     "output_type": "display_data"
    }
   ],
   "source": [
    "import seaborn as sns\n",
    "sns.boxplot(data_copy)"
   ]
  },
  {
   "cell_type": "code",
   "execution_count": 50,
   "id": "f191b1e8",
   "metadata": {},
   "outputs": [],
   "source": [
    "# variance And Standered Deviassion\n"
   ]
  },
  {
   "cell_type": "code",
   "execution_count": 51,
   "id": "69a22549",
   "metadata": {},
   "outputs": [
    {
     "data": {
      "text/plain": [
       "[23, 24, 32, 45, 12, 43, 67, 45, 32, 56, 32]"
      ]
     },
     "execution_count": 51,
     "metadata": {},
     "output_type": "execute_result"
    }
   ],
   "source": [
    "data"
   ]
  },
  {
   "cell_type": "code",
   "execution_count": 52,
   "id": "7eaaba53",
   "metadata": {},
   "outputs": [],
   "source": [
    "# sample/popultion"
   ]
  },
  {
   "cell_type": "code",
   "execution_count": 53,
   "id": "c79fdcde",
   "metadata": {},
   "outputs": [
    {
     "data": {
      "text/plain": [
       "array([24, 32, 32])"
      ]
     },
     "execution_count": 53,
     "metadata": {},
     "output_type": "execute_result"
    }
   ],
   "source": [
    "np.random.choice(data,size=3)"
   ]
  },
  {
   "cell_type": "code",
   "execution_count": 56,
   "id": "f861db7a",
   "metadata": {},
   "outputs": [
    {
     "data": {
      "text/html": [
       "<div>\n",
       "<style scoped>\n",
       "    .dataframe tbody tr th:only-of-type {\n",
       "        vertical-align: middle;\n",
       "    }\n",
       "\n",
       "    .dataframe tbody tr th {\n",
       "        vertical-align: top;\n",
       "    }\n",
       "\n",
       "    .dataframe thead th {\n",
       "        text-align: right;\n",
       "    }\n",
       "</style>\n",
       "<table border=\"1\" class=\"dataframe\">\n",
       "  <thead>\n",
       "    <tr style=\"text-align: right;\">\n",
       "      <th></th>\n",
       "      <th>Id</th>\n",
       "      <th>SepalLengthCm</th>\n",
       "      <th>SepalWidthCm</th>\n",
       "      <th>PetalLengthCm</th>\n",
       "      <th>PetalWidthCm</th>\n",
       "      <th>Species</th>\n",
       "    </tr>\n",
       "  </thead>\n",
       "  <tbody>\n",
       "    <tr>\n",
       "      <th>107</th>\n",
       "      <td>108</td>\n",
       "      <td>7.3</td>\n",
       "      <td>2.9</td>\n",
       "      <td>6.3</td>\n",
       "      <td>1.8</td>\n",
       "      <td>Iris-virginica</td>\n",
       "    </tr>\n",
       "    <tr>\n",
       "      <th>119</th>\n",
       "      <td>120</td>\n",
       "      <td>6.0</td>\n",
       "      <td>2.2</td>\n",
       "      <td>5.0</td>\n",
       "      <td>1.5</td>\n",
       "      <td>Iris-virginica</td>\n",
       "    </tr>\n",
       "    <tr>\n",
       "      <th>94</th>\n",
       "      <td>95</td>\n",
       "      <td>5.6</td>\n",
       "      <td>2.7</td>\n",
       "      <td>4.2</td>\n",
       "      <td>1.3</td>\n",
       "      <td>Iris-versicolor</td>\n",
       "    </tr>\n",
       "    <tr>\n",
       "      <th>114</th>\n",
       "      <td>115</td>\n",
       "      <td>5.8</td>\n",
       "      <td>2.8</td>\n",
       "      <td>5.1</td>\n",
       "      <td>2.4</td>\n",
       "      <td>Iris-virginica</td>\n",
       "    </tr>\n",
       "    <tr>\n",
       "      <th>137</th>\n",
       "      <td>138</td>\n",
       "      <td>6.4</td>\n",
       "      <td>3.1</td>\n",
       "      <td>5.5</td>\n",
       "      <td>1.8</td>\n",
       "      <td>Iris-virginica</td>\n",
       "    </tr>\n",
       "    <tr>\n",
       "      <th>105</th>\n",
       "      <td>106</td>\n",
       "      <td>7.6</td>\n",
       "      <td>3.0</td>\n",
       "      <td>6.6</td>\n",
       "      <td>2.1</td>\n",
       "      <td>Iris-virginica</td>\n",
       "    </tr>\n",
       "    <tr>\n",
       "      <th>21</th>\n",
       "      <td>22</td>\n",
       "      <td>5.1</td>\n",
       "      <td>3.7</td>\n",
       "      <td>1.5</td>\n",
       "      <td>0.4</td>\n",
       "      <td>Iris-setosa</td>\n",
       "    </tr>\n",
       "    <tr>\n",
       "      <th>48</th>\n",
       "      <td>49</td>\n",
       "      <td>5.3</td>\n",
       "      <td>3.7</td>\n",
       "      <td>1.5</td>\n",
       "      <td>0.2</td>\n",
       "      <td>Iris-setosa</td>\n",
       "    </tr>\n",
       "    <tr>\n",
       "      <th>25</th>\n",
       "      <td>26</td>\n",
       "      <td>5.0</td>\n",
       "      <td>3.0</td>\n",
       "      <td>1.6</td>\n",
       "      <td>0.2</td>\n",
       "      <td>Iris-setosa</td>\n",
       "    </tr>\n",
       "    <tr>\n",
       "      <th>73</th>\n",
       "      <td>74</td>\n",
       "      <td>6.1</td>\n",
       "      <td>2.8</td>\n",
       "      <td>4.7</td>\n",
       "      <td>1.2</td>\n",
       "      <td>Iris-versicolor</td>\n",
       "    </tr>\n",
       "    <tr>\n",
       "      <th>92</th>\n",
       "      <td>93</td>\n",
       "      <td>5.8</td>\n",
       "      <td>2.6</td>\n",
       "      <td>4.0</td>\n",
       "      <td>1.2</td>\n",
       "      <td>Iris-versicolor</td>\n",
       "    </tr>\n",
       "    <tr>\n",
       "      <th>64</th>\n",
       "      <td>65</td>\n",
       "      <td>5.6</td>\n",
       "      <td>2.9</td>\n",
       "      <td>3.6</td>\n",
       "      <td>1.3</td>\n",
       "      <td>Iris-versicolor</td>\n",
       "    </tr>\n",
       "    <tr>\n",
       "      <th>24</th>\n",
       "      <td>25</td>\n",
       "      <td>4.8</td>\n",
       "      <td>3.4</td>\n",
       "      <td>1.9</td>\n",
       "      <td>0.2</td>\n",
       "      <td>Iris-setosa</td>\n",
       "    </tr>\n",
       "    <tr>\n",
       "      <th>91</th>\n",
       "      <td>92</td>\n",
       "      <td>6.1</td>\n",
       "      <td>3.0</td>\n",
       "      <td>4.6</td>\n",
       "      <td>1.4</td>\n",
       "      <td>Iris-versicolor</td>\n",
       "    </tr>\n",
       "    <tr>\n",
       "      <th>110</th>\n",
       "      <td>111</td>\n",
       "      <td>6.5</td>\n",
       "      <td>3.2</td>\n",
       "      <td>5.1</td>\n",
       "      <td>2.0</td>\n",
       "      <td>Iris-virginica</td>\n",
       "    </tr>\n",
       "  </tbody>\n",
       "</table>\n",
       "</div>"
      ],
      "text/plain": [
       "      Id  SepalLengthCm  SepalWidthCm  PetalLengthCm  PetalWidthCm  \\\n",
       "107  108            7.3           2.9            6.3           1.8   \n",
       "119  120            6.0           2.2            5.0           1.5   \n",
       "94    95            5.6           2.7            4.2           1.3   \n",
       "114  115            5.8           2.8            5.1           2.4   \n",
       "137  138            6.4           3.1            5.5           1.8   \n",
       "105  106            7.6           3.0            6.6           2.1   \n",
       "21    22            5.1           3.7            1.5           0.4   \n",
       "48    49            5.3           3.7            1.5           0.2   \n",
       "25    26            5.0           3.0            1.6           0.2   \n",
       "73    74            6.1           2.8            4.7           1.2   \n",
       "92    93            5.8           2.6            4.0           1.2   \n",
       "64    65            5.6           2.9            3.6           1.3   \n",
       "24    25            4.8           3.4            1.9           0.2   \n",
       "91    92            6.1           3.0            4.6           1.4   \n",
       "110  111            6.5           3.2            5.1           2.0   \n",
       "\n",
       "             Species  \n",
       "107   Iris-virginica  \n",
       "119   Iris-virginica  \n",
       "94   Iris-versicolor  \n",
       "114   Iris-virginica  \n",
       "137   Iris-virginica  \n",
       "105   Iris-virginica  \n",
       "21       Iris-setosa  \n",
       "48       Iris-setosa  \n",
       "25       Iris-setosa  \n",
       "73   Iris-versicolor  \n",
       "92   Iris-versicolor  \n",
       "64   Iris-versicolor  \n",
       "24       Iris-setosa  \n",
       "91   Iris-versicolor  \n",
       "110   Iris-virginica  "
      ]
     },
     "execution_count": 56,
     "metadata": {},
     "output_type": "execute_result"
    }
   ],
   "source": [
    "data2.sample(n=15)"
   ]
  },
  {
   "cell_type": "code",
   "execution_count": 74,
   "id": "bcadda35",
   "metadata": {},
   "outputs": [],
   "source": [
    "def variance(data):            \n",
    "    # Number of observations\n",
    "    n = len(data)\n",
    "    # Mean of the data\n",
    "    mean = sum(data) / n\n",
    "    # Square deviations\n",
    "    deviations = [(x - mean) ** 2 for x in data]\n",
    "    #Variance\n",
    "    variance = sum(deviations) / n  # population\n",
    "    return variance"
   ]
  },
  {
   "cell_type": "code",
   "execution_count": 73,
   "id": "55c945e2",
   "metadata": {},
   "outputs": [
    {
     "data": {
      "text/plain": [
       "248.8545454545455"
      ]
     },
     "execution_count": 73,
     "metadata": {},
     "output_type": "execute_result"
    }
   ],
   "source": [
    "variance(data)"
   ]
  },
  {
   "cell_type": "code",
   "execution_count": 54,
   "id": "a1fe01a9",
   "metadata": {},
   "outputs": [
    {
     "data": {
      "text/plain": [
       "226.23140495867773"
      ]
     },
     "execution_count": 54,
     "metadata": {},
     "output_type": "execute_result"
    }
   ],
   "source": [
    "np.var(data)"
   ]
  },
  {
   "cell_type": "code",
   "execution_count": 57,
   "id": "31ecc988",
   "metadata": {},
   "outputs": [
    {
     "data": {
      "text/plain": [
       "15.040990823701666"
      ]
     },
     "execution_count": 57,
     "metadata": {},
     "output_type": "execute_result"
    }
   ],
   "source": [
    "np.std(data)"
   ]
  },
  {
   "cell_type": "code",
   "execution_count": 64,
   "id": "0a7e60b8",
   "metadata": {},
   "outputs": [
    {
     "data": {
      "text/plain": [
       "248.85454545454547"
      ]
     },
     "execution_count": 64,
     "metadata": {},
     "output_type": "execute_result"
    }
   ],
   "source": [
    "import statistics\n",
    "statistics.variance(data)"
   ]
  },
  {
   "cell_type": "code",
   "execution_count": 75,
   "id": "91af5a2d",
   "metadata": {},
   "outputs": [],
   "source": [
    "def variance(data):      \n",
    "    # Number of observations\n",
    "    n = len(data)\n",
    "    # Mean of the data\n",
    "    mean = sum(data) / n\n",
    "    # Square deviations\n",
    "    deviations = [(x - mean) ** 2 for x in data]\n",
    "    #Variance\n",
    "    variance = sum(deviations) / (n-1)  # smaple\n",
    "    return variance"
   ]
  },
  {
   "cell_type": "code",
   "execution_count": 68,
   "id": "e75af890",
   "metadata": {},
   "outputs": [
    {
     "data": {
      "text/plain": [
       "248.8545454545455"
      ]
     },
     "execution_count": 68,
     "metadata": {},
     "output_type": "execute_result"
    }
   ],
   "source": [
    "variance(data)"
   ]
  },
  {
   "cell_type": "code",
   "execution_count": 70,
   "id": "b5fe4d79",
   "metadata": {},
   "outputs": [
    {
     "data": {
      "text/plain": [
       "226.2314049586777"
      ]
     },
     "execution_count": 70,
     "metadata": {},
     "output_type": "execute_result"
    }
   ],
   "source": [
    "statistics.pvariance(data)"
   ]
  },
  {
   "cell_type": "code",
   "execution_count": 71,
   "id": "71603a97",
   "metadata": {},
   "outputs": [
    {
     "data": {
      "text/plain": [
       "15.775124261144363"
      ]
     },
     "execution_count": 71,
     "metadata": {},
     "output_type": "execute_result"
    }
   ],
   "source": [
    "import math\n",
    "math.sqrt(statistics.variance(data))"
   ]
  },
  {
   "cell_type": "code",
   "execution_count": 77,
   "id": "9acd220f",
   "metadata": {},
   "outputs": [],
   "source": [
    "import seaborn as sns\n",
    "df=sns.load_dataset('tips')"
   ]
  },
  {
   "cell_type": "code",
   "execution_count": 78,
   "id": "e1dc09be",
   "metadata": {},
   "outputs": [
    {
     "data": {
      "text/html": [
       "<div>\n",
       "<style scoped>\n",
       "    .dataframe tbody tr th:only-of-type {\n",
       "        vertical-align: middle;\n",
       "    }\n",
       "\n",
       "    .dataframe tbody tr th {\n",
       "        vertical-align: top;\n",
       "    }\n",
       "\n",
       "    .dataframe thead th {\n",
       "        text-align: right;\n",
       "    }\n",
       "</style>\n",
       "<table border=\"1\" class=\"dataframe\">\n",
       "  <thead>\n",
       "    <tr style=\"text-align: right;\">\n",
       "      <th></th>\n",
       "      <th>total_bill</th>\n",
       "      <th>tip</th>\n",
       "      <th>sex</th>\n",
       "      <th>smoker</th>\n",
       "      <th>day</th>\n",
       "      <th>time</th>\n",
       "      <th>size</th>\n",
       "    </tr>\n",
       "  </thead>\n",
       "  <tbody>\n",
       "    <tr>\n",
       "      <th>0</th>\n",
       "      <td>16.99</td>\n",
       "      <td>1.01</td>\n",
       "      <td>Female</td>\n",
       "      <td>No</td>\n",
       "      <td>Sun</td>\n",
       "      <td>Dinner</td>\n",
       "      <td>2</td>\n",
       "    </tr>\n",
       "    <tr>\n",
       "      <th>1</th>\n",
       "      <td>10.34</td>\n",
       "      <td>1.66</td>\n",
       "      <td>Male</td>\n",
       "      <td>No</td>\n",
       "      <td>Sun</td>\n",
       "      <td>Dinner</td>\n",
       "      <td>3</td>\n",
       "    </tr>\n",
       "    <tr>\n",
       "      <th>2</th>\n",
       "      <td>21.01</td>\n",
       "      <td>3.50</td>\n",
       "      <td>Male</td>\n",
       "      <td>No</td>\n",
       "      <td>Sun</td>\n",
       "      <td>Dinner</td>\n",
       "      <td>3</td>\n",
       "    </tr>\n",
       "    <tr>\n",
       "      <th>3</th>\n",
       "      <td>23.68</td>\n",
       "      <td>3.31</td>\n",
       "      <td>Male</td>\n",
       "      <td>No</td>\n",
       "      <td>Sun</td>\n",
       "      <td>Dinner</td>\n",
       "      <td>2</td>\n",
       "    </tr>\n",
       "    <tr>\n",
       "      <th>4</th>\n",
       "      <td>24.59</td>\n",
       "      <td>3.61</td>\n",
       "      <td>Female</td>\n",
       "      <td>No</td>\n",
       "      <td>Sun</td>\n",
       "      <td>Dinner</td>\n",
       "      <td>4</td>\n",
       "    </tr>\n",
       "    <tr>\n",
       "      <th>...</th>\n",
       "      <td>...</td>\n",
       "      <td>...</td>\n",
       "      <td>...</td>\n",
       "      <td>...</td>\n",
       "      <td>...</td>\n",
       "      <td>...</td>\n",
       "      <td>...</td>\n",
       "    </tr>\n",
       "    <tr>\n",
       "      <th>239</th>\n",
       "      <td>29.03</td>\n",
       "      <td>5.92</td>\n",
       "      <td>Male</td>\n",
       "      <td>No</td>\n",
       "      <td>Sat</td>\n",
       "      <td>Dinner</td>\n",
       "      <td>3</td>\n",
       "    </tr>\n",
       "    <tr>\n",
       "      <th>240</th>\n",
       "      <td>27.18</td>\n",
       "      <td>2.00</td>\n",
       "      <td>Female</td>\n",
       "      <td>Yes</td>\n",
       "      <td>Sat</td>\n",
       "      <td>Dinner</td>\n",
       "      <td>2</td>\n",
       "    </tr>\n",
       "    <tr>\n",
       "      <th>241</th>\n",
       "      <td>22.67</td>\n",
       "      <td>2.00</td>\n",
       "      <td>Male</td>\n",
       "      <td>Yes</td>\n",
       "      <td>Sat</td>\n",
       "      <td>Dinner</td>\n",
       "      <td>2</td>\n",
       "    </tr>\n",
       "    <tr>\n",
       "      <th>242</th>\n",
       "      <td>17.82</td>\n",
       "      <td>1.75</td>\n",
       "      <td>Male</td>\n",
       "      <td>No</td>\n",
       "      <td>Sat</td>\n",
       "      <td>Dinner</td>\n",
       "      <td>2</td>\n",
       "    </tr>\n",
       "    <tr>\n",
       "      <th>243</th>\n",
       "      <td>18.78</td>\n",
       "      <td>3.00</td>\n",
       "      <td>Female</td>\n",
       "      <td>No</td>\n",
       "      <td>Thur</td>\n",
       "      <td>Dinner</td>\n",
       "      <td>2</td>\n",
       "    </tr>\n",
       "  </tbody>\n",
       "</table>\n",
       "<p>244 rows × 7 columns</p>\n",
       "</div>"
      ],
      "text/plain": [
       "     total_bill   tip     sex smoker   day    time  size\n",
       "0         16.99  1.01  Female     No   Sun  Dinner     2\n",
       "1         10.34  1.66    Male     No   Sun  Dinner     3\n",
       "2         21.01  3.50    Male     No   Sun  Dinner     3\n",
       "3         23.68  3.31    Male     No   Sun  Dinner     2\n",
       "4         24.59  3.61  Female     No   Sun  Dinner     4\n",
       "..          ...   ...     ...    ...   ...     ...   ...\n",
       "239       29.03  5.92    Male     No   Sat  Dinner     3\n",
       "240       27.18  2.00  Female    Yes   Sat  Dinner     2\n",
       "241       22.67  2.00    Male    Yes   Sat  Dinner     2\n",
       "242       17.82  1.75    Male     No   Sat  Dinner     2\n",
       "243       18.78  3.00  Female     No  Thur  Dinner     2\n",
       "\n",
       "[244 rows x 7 columns]"
      ]
     },
     "execution_count": 78,
     "metadata": {},
     "output_type": "execute_result"
    }
   ],
   "source": [
    "df"
   ]
  },
  {
   "cell_type": "code",
   "execution_count": 79,
   "id": "63d6100b",
   "metadata": {},
   "outputs": [
    {
     "data": {
      "text/html": [
       "<div>\n",
       "<style scoped>\n",
       "    .dataframe tbody tr th:only-of-type {\n",
       "        vertical-align: middle;\n",
       "    }\n",
       "\n",
       "    .dataframe tbody tr th {\n",
       "        vertical-align: top;\n",
       "    }\n",
       "\n",
       "    .dataframe thead th {\n",
       "        text-align: right;\n",
       "    }\n",
       "</style>\n",
       "<table border=\"1\" class=\"dataframe\">\n",
       "  <thead>\n",
       "    <tr style=\"text-align: right;\">\n",
       "      <th></th>\n",
       "      <th>total_bill</th>\n",
       "      <th>tip</th>\n",
       "      <th>sex</th>\n",
       "      <th>smoker</th>\n",
       "      <th>day</th>\n",
       "      <th>time</th>\n",
       "      <th>size</th>\n",
       "    </tr>\n",
       "  </thead>\n",
       "  <tbody>\n",
       "    <tr>\n",
       "      <th>0</th>\n",
       "      <td>16.99</td>\n",
       "      <td>1.01</td>\n",
       "      <td>Female</td>\n",
       "      <td>No</td>\n",
       "      <td>Sun</td>\n",
       "      <td>Dinner</td>\n",
       "      <td>2</td>\n",
       "    </tr>\n",
       "    <tr>\n",
       "      <th>1</th>\n",
       "      <td>10.34</td>\n",
       "      <td>1.66</td>\n",
       "      <td>Male</td>\n",
       "      <td>No</td>\n",
       "      <td>Sun</td>\n",
       "      <td>Dinner</td>\n",
       "      <td>3</td>\n",
       "    </tr>\n",
       "    <tr>\n",
       "      <th>2</th>\n",
       "      <td>21.01</td>\n",
       "      <td>3.50</td>\n",
       "      <td>Male</td>\n",
       "      <td>No</td>\n",
       "      <td>Sun</td>\n",
       "      <td>Dinner</td>\n",
       "      <td>3</td>\n",
       "    </tr>\n",
       "    <tr>\n",
       "      <th>3</th>\n",
       "      <td>23.68</td>\n",
       "      <td>3.31</td>\n",
       "      <td>Male</td>\n",
       "      <td>No</td>\n",
       "      <td>Sun</td>\n",
       "      <td>Dinner</td>\n",
       "      <td>2</td>\n",
       "    </tr>\n",
       "    <tr>\n",
       "      <th>4</th>\n",
       "      <td>24.59</td>\n",
       "      <td>3.61</td>\n",
       "      <td>Female</td>\n",
       "      <td>No</td>\n",
       "      <td>Sun</td>\n",
       "      <td>Dinner</td>\n",
       "      <td>4</td>\n",
       "    </tr>\n",
       "  </tbody>\n",
       "</table>\n",
       "</div>"
      ],
      "text/plain": [
       "   total_bill   tip     sex smoker  day    time  size\n",
       "0       16.99  1.01  Female     No  Sun  Dinner     2\n",
       "1       10.34  1.66    Male     No  Sun  Dinner     3\n",
       "2       21.01  3.50    Male     No  Sun  Dinner     3\n",
       "3       23.68  3.31    Male     No  Sun  Dinner     2\n",
       "4       24.59  3.61  Female     No  Sun  Dinner     4"
      ]
     },
     "execution_count": 79,
     "metadata": {},
     "output_type": "execute_result"
    }
   ],
   "source": [
    "df.head()"
   ]
  },
  {
   "cell_type": "code",
   "execution_count": 80,
   "id": "3ae7ae3b",
   "metadata": {},
   "outputs": [
    {
     "data": {
      "text/html": [
       "<div>\n",
       "<style scoped>\n",
       "    .dataframe tbody tr th:only-of-type {\n",
       "        vertical-align: middle;\n",
       "    }\n",
       "\n",
       "    .dataframe tbody tr th {\n",
       "        vertical-align: top;\n",
       "    }\n",
       "\n",
       "    .dataframe thead th {\n",
       "        text-align: right;\n",
       "    }\n",
       "</style>\n",
       "<table border=\"1\" class=\"dataframe\">\n",
       "  <thead>\n",
       "    <tr style=\"text-align: right;\">\n",
       "      <th></th>\n",
       "      <th>total_bill</th>\n",
       "      <th>tip</th>\n",
       "      <th>size</th>\n",
       "    </tr>\n",
       "  </thead>\n",
       "  <tbody>\n",
       "    <tr>\n",
       "      <th>total_bill</th>\n",
       "      <td>1.000000</td>\n",
       "      <td>0.675734</td>\n",
       "      <td>0.598315</td>\n",
       "    </tr>\n",
       "    <tr>\n",
       "      <th>tip</th>\n",
       "      <td>0.675734</td>\n",
       "      <td>1.000000</td>\n",
       "      <td>0.489299</td>\n",
       "    </tr>\n",
       "    <tr>\n",
       "      <th>size</th>\n",
       "      <td>0.598315</td>\n",
       "      <td>0.489299</td>\n",
       "      <td>1.000000</td>\n",
       "    </tr>\n",
       "  </tbody>\n",
       "</table>\n",
       "</div>"
      ],
      "text/plain": [
       "            total_bill       tip      size\n",
       "total_bill    1.000000  0.675734  0.598315\n",
       "tip           0.675734  1.000000  0.489299\n",
       "size          0.598315  0.489299  1.000000"
      ]
     },
     "execution_count": 80,
     "metadata": {},
     "output_type": "execute_result"
    }
   ],
   "source": [
    "df.corr()"
   ]
  },
  {
   "cell_type": "code",
   "execution_count": 81,
   "id": "250f12c5",
   "metadata": {},
   "outputs": [
    {
     "name": "stdout",
     "output_type": "stream",
     "text": [
      "<class 'pandas.core.frame.DataFrame'>\n",
      "RangeIndex: 244 entries, 0 to 243\n",
      "Data columns (total 7 columns):\n",
      " #   Column      Non-Null Count  Dtype   \n",
      "---  ------      --------------  -----   \n",
      " 0   total_bill  244 non-null    float64 \n",
      " 1   tip         244 non-null    float64 \n",
      " 2   sex         244 non-null    category\n",
      " 3   smoker      244 non-null    category\n",
      " 4   day         244 non-null    category\n",
      " 5   time        244 non-null    category\n",
      " 6   size        244 non-null    int64   \n",
      "dtypes: category(4), float64(2), int64(1)\n",
      "memory usage: 7.4 KB\n"
     ]
    }
   ],
   "source": [
    "df.info()"
   ]
  },
  {
   "cell_type": "code",
   "execution_count": 94,
   "id": "95895dcb",
   "metadata": {},
   "outputs": [
    {
     "data": {
      "text/plain": [
       "total_bill    0\n",
       "tip           0\n",
       "sex           0\n",
       "smoker        0\n",
       "day           0\n",
       "time          0\n",
       "size          0\n",
       "dtype: int64"
      ]
     },
     "execution_count": 94,
     "metadata": {},
     "output_type": "execute_result"
    }
   ],
   "source": [
    "df.isnull().sum()"
   ]
  },
  {
   "cell_type": "code",
   "execution_count": 92,
   "id": "13240504",
   "metadata": {},
   "outputs": [
    {
     "data": {
      "text/plain": [
       "<AxesSubplot:xlabel='tip', ylabel='size'>"
      ]
     },
     "execution_count": 92,
     "metadata": {},
     "output_type": "execute_result"
    },
    {
     "data": {
      "image/png": "[encoded data removed]",
      "text/plain": [
       "<Figure size 640x480 with 1 Axes>"
      ]
     },
     "metadata": {},
     "output_type": "display_data"
    }
   ],
   "source": [
    "sns.scatterplot(x=df['tip'],y=df['size'])"
   ]
  },
  {
   "cell_type": "code",
   "execution_count": 95,
   "id": "f7050b75",
   "metadata": {},
   "outputs": [
    {
     "data": {
      "text/plain": [
       "<AxesSubplot:xlabel='tip', ylabel='total_bill'>"
      ]
     },
     "execution_count": 95,
     "metadata": {},
     "output_type": "execute_result"
    },
    {
     "data": {
      "image/png": "[encoded data removed]",
      "text/plain": [
       "<Figure size 640x480 with 1 Axes>"
      ]
     },
     "metadata": {},
     "output_type": "display_data"
    }
   ],
   "source": [
    "sns.scatterplot(x=df['tip'],y=df['total_bill'])"
   ]
  },
  {
   "cell_type": "code",
   "execution_count": 96,
   "id": "94ce7091",
   "metadata": {},
   "outputs": [
    {
     "data": {
      "text/html": [
       "<div>\n",
       "<style scoped>\n",
       "    .dataframe tbody tr th:only-of-type {\n",
       "        vertical-align: middle;\n",
       "    }\n",
       "\n",
       "    .dataframe tbody tr th {\n",
       "        vertical-align: top;\n",
       "    }\n",
       "\n",
       "    .dataframe thead th {\n",
       "        text-align: right;\n",
       "    }\n",
       "</style>\n",
       "<table border=\"1\" class=\"dataframe\">\n",
       "  <thead>\n",
       "    <tr style=\"text-align: right;\">\n",
       "      <th></th>\n",
       "      <th>total_bill</th>\n",
       "      <th>tip</th>\n",
       "      <th>size</th>\n",
       "    </tr>\n",
       "  </thead>\n",
       "  <tbody>\n",
       "    <tr>\n",
       "      <th>total_bill</th>\n",
       "      <td>79.252939</td>\n",
       "      <td>8.323502</td>\n",
       "      <td>5.065983</td>\n",
       "    </tr>\n",
       "    <tr>\n",
       "      <th>tip</th>\n",
       "      <td>8.323502</td>\n",
       "      <td>1.914455</td>\n",
       "      <td>0.643906</td>\n",
       "    </tr>\n",
       "    <tr>\n",
       "      <th>size</th>\n",
       "      <td>5.065983</td>\n",
       "      <td>0.643906</td>\n",
       "      <td>0.904591</td>\n",
       "    </tr>\n",
       "  </tbody>\n",
       "</table>\n",
       "</div>"
      ],
      "text/plain": [
       "            total_bill       tip      size\n",
       "total_bill   79.252939  8.323502  5.065983\n",
       "tip           8.323502  1.914455  0.643906\n",
       "size          5.065983  0.643906  0.904591"
      ]
     },
     "execution_count": 96,
     "metadata": {},
     "output_type": "execute_result"
    }
   ],
   "source": [
    "df.cov()"
   ]
  },
  {
   "cell_type": "code",
   "execution_count": 97,
   "id": "5bc148f3",
   "metadata": {},
   "outputs": [],
   "source": [
    "# PDF"
   ]
  },
  {
   "cell_type": "code",
   "execution_count": 110,
   "id": "c618e59f",
   "metadata": {},
   "outputs": [
    {
     "data": {
      "text/plain": [
       "[23, 24, 32, 45, 12, 43, 67, 45, 32, 56, 32]"
      ]
     },
     "execution_count": 110,
     "metadata": {},
     "output_type": "execute_result"
    }
   ],
   "source": [
    "data"
   ]
  },
  {
   "cell_type": "code",
   "execution_count": 111,
   "id": "a9f82809",
   "metadata": {},
   "outputs": [],
   "source": [
    "data_copy=data.copy()"
   ]
  },
  {
   "cell_type": "code",
   "execution_count": 113,
   "id": "150dc426",
   "metadata": {},
   "outputs": [],
   "source": [
    "data_copy.sort()"
   ]
  },
  {
   "cell_type": "code",
   "execution_count": 114,
   "id": "c7ec5d8e",
   "metadata": {},
   "outputs": [],
   "source": [
    "data_copy.append(179)"
   ]
  },
  {
   "cell_type": "code",
   "execution_count": 115,
   "id": "7c3000ad",
   "metadata": {},
   "outputs": [],
   "source": [
    "data_copy.append(210)"
   ]
  },
  {
   "cell_type": "code",
   "execution_count": 116,
   "id": "5c0bbf3e",
   "metadata": {},
   "outputs": [],
   "source": [
    "data_copy.append(289)"
   ]
  },
  {
   "cell_type": "code",
   "execution_count": 117,
   "id": "2bd1c73d",
   "metadata": {},
   "outputs": [
    {
     "data": {
      "text/plain": [
       "[12, 23, 24, 32, 32, 32, 43, 45, 45, 56, 67, 179, 210, 289]"
      ]
     },
     "execution_count": 117,
     "metadata": {},
     "output_type": "execute_result"
    }
   ],
   "source": [
    "data_copy"
   ]
  },
  {
   "cell_type": "code",
   "execution_count": 119,
   "id": "ec72b7e8",
   "metadata": {},
   "outputs": [],
   "source": [
    "data_copy2=data.copy()"
   ]
  },
  {
   "cell_type": "code",
   "execution_count": 99,
   "id": "9b8f5039",
   "metadata": {},
   "outputs": [
    {
     "data": {
      "text/plain": [
       "<AxesSubplot:ylabel='Count'>"
      ]
     },
     "execution_count": 99,
     "metadata": {},
     "output_type": "execute_result"
    },
    {
     "data": {
      "image/png": "[encoded data removed]",
      "text/plain": [
       "<Figure size 640x480 with 1 Axes>"
      ]
     },
     "metadata": {},
     "output_type": "display_data"
    }
   ],
   "source": [
    "import seaborn as sns\n",
    "sns.histplot(data)"
   ]
  },
  {
   "cell_type": "code",
   "execution_count": 102,
   "id": "e717855a",
   "metadata": {},
   "outputs": [
    {
     "data": {
      "text/plain": [
       "<AxesSubplot:ylabel='Count'>"
      ]
     },
     "execution_count": 102,
     "metadata": {},
     "output_type": "execute_result"
    },
    {
     "data": {
      "image/png": "[encoded data removed]",
      "text/plain": [
       "<Figure size 640x480 with 1 Axes>"
      ]
     },
     "metadata": {},
     "output_type": "display_data"
    }
   ],
   "source": [
    "sns.histplot(data,kde=True)"
   ]
  },
  {
   "cell_type": "code",
   "execution_count": 118,
   "id": "5086b246",
   "metadata": {},
   "outputs": [
    {
     "data": {
      "text/plain": [
       "<AxesSubplot:ylabel='Count'>"
      ]
     },
     "execution_count": 118,
     "metadata": {},
     "output_type": "execute_result"
    },
    {
     "data": {
      "image/png": "[encoded data removed]",
      "text/plain": [
       "<Figure size 640x480 with 1 Axes>"
      ]
     },
     "metadata": {},
     "output_type": "display_data"
    }
   ],
   "source": [
    "sns.histplot(data_copy,kde=True)"
   ]
  },
  {
   "cell_type": "code",
   "execution_count": 120,
   "id": "8641668b",
   "metadata": {},
   "outputs": [
    {
     "data": {
      "text/plain": [
       "[23, 24, 32, 45, 12, 43, 67, 45, 32, 56, 32]"
      ]
     },
     "execution_count": 120,
     "metadata": {},
     "output_type": "execute_result"
    }
   ],
   "source": [
    "data_copy2"
   ]
  },
  {
   "cell_type": "code",
   "execution_count": 123,
   "id": "62f11fb5",
   "metadata": {},
   "outputs": [],
   "source": [
    "data_copy2[0]=-10"
   ]
  },
  {
   "cell_type": "code",
   "execution_count": 124,
   "id": "1dafc98c",
   "metadata": {},
   "outputs": [],
   "source": [
    "data_copy2[1]=-75"
   ]
  },
  {
   "cell_type": "code",
   "execution_count": 125,
   "id": "844bec82",
   "metadata": {},
   "outputs": [
    {
     "data": {
      "text/plain": [
       "[-10, -75, 32, 45, 12, 43, 67, 45, 32, 56, 32]"
      ]
     },
     "execution_count": 125,
     "metadata": {},
     "output_type": "execute_result"
    }
   ],
   "source": [
    "data_copy2"
   ]
  },
  {
   "cell_type": "code",
   "execution_count": 127,
   "id": "2376bcc5",
   "metadata": {},
   "outputs": [
    {
     "data": {
      "text/plain": [
       "<AxesSubplot:ylabel='Count'>"
      ]
     },
     "execution_count": 127,
     "metadata": {},
     "output_type": "execute_result"
    },
    {
     "data": {
      "image/png": "[encoded data removed]",
      "text/plain": [
       "<Figure size 640x480 with 1 Axes>"
      ]
     },
     "metadata": {},
     "output_type": "display_data"
    }
   ],
   "source": [
    "sns.histplot(data_copy2)"
   ]
  },
  {
   "cell_type": "code",
   "execution_count": 126,
   "id": "db6aba97",
   "metadata": {},
   "outputs": [
    {
     "data": {
      "text/plain": [
       "<AxesSubplot:ylabel='Count'>"
      ]
     },
     "execution_count": 126,
     "metadata": {},
     "output_type": "execute_result"
    },
    {
     "data": {
      "image/png": "[encoded data removed]",
      "text/plain": [
       "<Figure size 640x480 with 1 Axes>"
      ]
     },
     "metadata": {},
     "output_type": "display_data"
    }
   ],
   "source": [
    "sns.histplot(data_copy2,kde=True)"
   ]
  },
  {
   "cell_type": "code",
   "execution_count": 103,
   "id": "312a6a26",
   "metadata": {},
   "outputs": [
    {
     "data": {
      "text/html": [
       "<div>\n",
       "<style scoped>\n",
       "    .dataframe tbody tr th:only-of-type {\n",
       "        vertical-align: middle;\n",
       "    }\n",
       "\n",
       "    .dataframe tbody tr th {\n",
       "        vertical-align: top;\n",
       "    }\n",
       "\n",
       "    .dataframe thead th {\n",
       "        text-align: right;\n",
       "    }\n",
       "</style>\n",
       "<table border=\"1\" class=\"dataframe\">\n",
       "  <thead>\n",
       "    <tr style=\"text-align: right;\">\n",
       "      <th></th>\n",
       "      <th>Id</th>\n",
       "      <th>SepalLengthCm</th>\n",
       "      <th>SepalWidthCm</th>\n",
       "      <th>PetalLengthCm</th>\n",
       "      <th>PetalWidthCm</th>\n",
       "      <th>Species</th>\n",
       "    </tr>\n",
       "  </thead>\n",
       "  <tbody>\n",
       "    <tr>\n",
       "      <th>0</th>\n",
       "      <td>1</td>\n",
       "      <td>5.1</td>\n",
       "      <td>3.5</td>\n",
       "      <td>1.4</td>\n",
       "      <td>0.2</td>\n",
       "      <td>Iris-setosa</td>\n",
       "    </tr>\n",
       "    <tr>\n",
       "      <th>1</th>\n",
       "      <td>2</td>\n",
       "      <td>4.9</td>\n",
       "      <td>3.0</td>\n",
       "      <td>1.4</td>\n",
       "      <td>0.2</td>\n",
       "      <td>Iris-setosa</td>\n",
       "    </tr>\n",
       "    <tr>\n",
       "      <th>2</th>\n",
       "      <td>3</td>\n",
       "      <td>4.7</td>\n",
       "      <td>3.2</td>\n",
       "      <td>1.3</td>\n",
       "      <td>0.2</td>\n",
       "      <td>Iris-setosa</td>\n",
       "    </tr>\n",
       "    <tr>\n",
       "      <th>3</th>\n",
       "      <td>4</td>\n",
       "      <td>4.6</td>\n",
       "      <td>3.1</td>\n",
       "      <td>1.5</td>\n",
       "      <td>0.2</td>\n",
       "      <td>Iris-setosa</td>\n",
       "    </tr>\n",
       "    <tr>\n",
       "      <th>4</th>\n",
       "      <td>5</td>\n",
       "      <td>5.0</td>\n",
       "      <td>3.6</td>\n",
       "      <td>1.4</td>\n",
       "      <td>0.2</td>\n",
       "      <td>Iris-setosa</td>\n",
       "    </tr>\n",
       "    <tr>\n",
       "      <th>...</th>\n",
       "      <td>...</td>\n",
       "      <td>...</td>\n",
       "      <td>...</td>\n",
       "      <td>...</td>\n",
       "      <td>...</td>\n",
       "      <td>...</td>\n",
       "    </tr>\n",
       "    <tr>\n",
       "      <th>145</th>\n",
       "      <td>146</td>\n",
       "      <td>6.7</td>\n",
       "      <td>3.0</td>\n",
       "      <td>5.2</td>\n",
       "      <td>2.3</td>\n",
       "      <td>Iris-virginica</td>\n",
       "    </tr>\n",
       "    <tr>\n",
       "      <th>146</th>\n",
       "      <td>147</td>\n",
       "      <td>6.3</td>\n",
       "      <td>2.5</td>\n",
       "      <td>5.0</td>\n",
       "      <td>1.9</td>\n",
       "      <td>Iris-virginica</td>\n",
       "    </tr>\n",
       "    <tr>\n",
       "      <th>147</th>\n",
       "      <td>148</td>\n",
       "      <td>6.5</td>\n",
       "      <td>3.0</td>\n",
       "      <td>5.2</td>\n",
       "      <td>2.0</td>\n",
       "      <td>Iris-virginica</td>\n",
       "    </tr>\n",
       "    <tr>\n",
       "      <th>148</th>\n",
       "      <td>149</td>\n",
       "      <td>6.2</td>\n",
       "      <td>3.4</td>\n",
       "      <td>5.4</td>\n",
       "      <td>2.3</td>\n",
       "      <td>Iris-virginica</td>\n",
       "    </tr>\n",
       "    <tr>\n",
       "      <th>149</th>\n",
       "      <td>150</td>\n",
       "      <td>5.9</td>\n",
       "      <td>3.0</td>\n",
       "      <td>5.1</td>\n",
       "      <td>1.8</td>\n",
       "      <td>Iris-virginica</td>\n",
       "    </tr>\n",
       "  </tbody>\n",
       "</table>\n",
       "<p>150 rows × 6 columns</p>\n",
       "</div>"
      ],
      "text/plain": [
       "      Id  SepalLengthCm  SepalWidthCm  PetalLengthCm  PetalWidthCm  \\\n",
       "0      1            5.1           3.5            1.4           0.2   \n",
       "1      2            4.9           3.0            1.4           0.2   \n",
       "2      3            4.7           3.2            1.3           0.2   \n",
       "3      4            4.6           3.1            1.5           0.2   \n",
       "4      5            5.0           3.6            1.4           0.2   \n",
       "..   ...            ...           ...            ...           ...   \n",
       "145  146            6.7           3.0            5.2           2.3   \n",
       "146  147            6.3           2.5            5.0           1.9   \n",
       "147  148            6.5           3.0            5.2           2.0   \n",
       "148  149            6.2           3.4            5.4           2.3   \n",
       "149  150            5.9           3.0            5.1           1.8   \n",
       "\n",
       "            Species  \n",
       "0       Iris-setosa  \n",
       "1       Iris-setosa  \n",
       "2       Iris-setosa  \n",
       "3       Iris-setosa  \n",
       "4       Iris-setosa  \n",
       "..              ...  \n",
       "145  Iris-virginica  \n",
       "146  Iris-virginica  \n",
       "147  Iris-virginica  \n",
       "148  Iris-virginica  \n",
       "149  Iris-virginica  \n",
       "\n",
       "[150 rows x 6 columns]"
      ]
     },
     "execution_count": 103,
     "metadata": {},
     "output_type": "execute_result"
    }
   ],
   "source": [
    "data2"
   ]
  },
  {
   "cell_type": "code",
   "execution_count": 104,
   "id": "7f8f3705",
   "metadata": {},
   "outputs": [
    {
     "data": {
      "text/html": [
       "<div>\n",
       "<style scoped>\n",
       "    .dataframe tbody tr th:only-of-type {\n",
       "        vertical-align: middle;\n",
       "    }\n",
       "\n",
       "    .dataframe tbody tr th {\n",
       "        vertical-align: top;\n",
       "    }\n",
       "\n",
       "    .dataframe thead th {\n",
       "        text-align: right;\n",
       "    }\n",
       "</style>\n",
       "<table border=\"1\" class=\"dataframe\">\n",
       "  <thead>\n",
       "    <tr style=\"text-align: right;\">\n",
       "      <th></th>\n",
       "      <th>Id</th>\n",
       "      <th>SepalLengthCm</th>\n",
       "      <th>SepalWidthCm</th>\n",
       "      <th>PetalLengthCm</th>\n",
       "      <th>PetalWidthCm</th>\n",
       "      <th>Species</th>\n",
       "    </tr>\n",
       "  </thead>\n",
       "  <tbody>\n",
       "    <tr>\n",
       "      <th>0</th>\n",
       "      <td>1</td>\n",
       "      <td>5.1</td>\n",
       "      <td>3.5</td>\n",
       "      <td>1.4</td>\n",
       "      <td>0.2</td>\n",
       "      <td>Iris-setosa</td>\n",
       "    </tr>\n",
       "    <tr>\n",
       "      <th>1</th>\n",
       "      <td>2</td>\n",
       "      <td>4.9</td>\n",
       "      <td>3.0</td>\n",
       "      <td>1.4</td>\n",
       "      <td>0.2</td>\n",
       "      <td>Iris-setosa</td>\n",
       "    </tr>\n",
       "    <tr>\n",
       "      <th>2</th>\n",
       "      <td>3</td>\n",
       "      <td>4.7</td>\n",
       "      <td>3.2</td>\n",
       "      <td>1.3</td>\n",
       "      <td>0.2</td>\n",
       "      <td>Iris-setosa</td>\n",
       "    </tr>\n",
       "    <tr>\n",
       "      <th>3</th>\n",
       "      <td>4</td>\n",
       "      <td>4.6</td>\n",
       "      <td>3.1</td>\n",
       "      <td>1.5</td>\n",
       "      <td>0.2</td>\n",
       "      <td>Iris-setosa</td>\n",
       "    </tr>\n",
       "    <tr>\n",
       "      <th>4</th>\n",
       "      <td>5</td>\n",
       "      <td>5.0</td>\n",
       "      <td>3.6</td>\n",
       "      <td>1.4</td>\n",
       "      <td>0.2</td>\n",
       "      <td>Iris-setosa</td>\n",
       "    </tr>\n",
       "  </tbody>\n",
       "</table>\n",
       "</div>"
      ],
      "text/plain": [
       "   Id  SepalLengthCm  SepalWidthCm  PetalLengthCm  PetalWidthCm      Species\n",
       "0   1            5.1           3.5            1.4           0.2  Iris-setosa\n",
       "1   2            4.9           3.0            1.4           0.2  Iris-setosa\n",
       "2   3            4.7           3.2            1.3           0.2  Iris-setosa\n",
       "3   4            4.6           3.1            1.5           0.2  Iris-setosa\n",
       "4   5            5.0           3.6            1.4           0.2  Iris-setosa"
      ]
     },
     "execution_count": 104,
     "metadata": {},
     "output_type": "execute_result"
    }
   ],
   "source": [
    "data2.head()"
   ]
  },
  {
   "cell_type": "code",
   "execution_count": 105,
   "id": "1e5268a4",
   "metadata": {},
   "outputs": [
    {
     "data": {
      "text/plain": [
       "<AxesSubplot:xlabel='SepalLengthCm', ylabel='Count'>"
      ]
     },
     "execution_count": 105,
     "metadata": {},
     "output_type": "execute_result"
    },
    {
     "data": {
      "image/png": "[encoded data removed]",
      "text/plain": [
       "<Figure size 640x480 with 1 Axes>"
      ]
     },
     "metadata": {},
     "output_type": "display_data"
    }
   ],
   "source": [
    "sns.histplot(data2[\"SepalLengthCm\"])"
   ]
  },
  {
   "cell_type": "code",
   "execution_count": 132,
   "id": "efaf792d",
   "metadata": {},
   "outputs": [
    {
     "data": {
      "text/plain": [
       "<AxesSubplot:xlabel='SepalLengthCm', ylabel='Count'>"
      ]
     },
     "execution_count": 132,
     "metadata": {},
     "output_type": "execute_result"
    },
    {
     "data": {
      "image/png": "[encoded data removed]",
      "text/plain": [
       "<Figure size 640x480 with 1 Axes>"
      ]
     },
     "metadata": {},
     "output_type": "display_data"
    }
   ],
   "source": [
    "sns.histplot(data2[\"SepalLengthCm\"],kde=True)  #kde=kernal density estimation"
   ]
  },
  {
   "cell_type": "code",
   "execution_count": 140,
   "id": "ee49041a",
   "metadata": {},
   "outputs": [
    {
     "data": {
      "text/plain": [
       "<AxesSubplot:xlabel='SepalLengthCm', ylabel='Count'>"
      ]
     },
     "execution_count": 140,
     "metadata": {},
     "output_type": "execute_result"
    },
    {
     "data": {
      "image/png": "[encoded data removed]",
      "text/plain": [
       "<Figure size 640x480 with 1 Axes>"
      ]
     },
     "metadata": {},
     "output_type": "display_data"
    }
   ],
   "source": [
    "sns.histplot(np.log(data2[\"SepalLengthCm\"]),kde=True)"
   ]
  },
  {
   "cell_type": "code",
   "execution_count": 107,
   "id": "8667cc3e",
   "metadata": {},
   "outputs": [
    {
     "data": {
      "text/plain": [
       "<AxesSubplot:xlabel='SepalWidthCm', ylabel='Count'>"
      ]
     },
     "execution_count": 107,
     "metadata": {},
     "output_type": "execute_result"
    },
    {
     "data": {
      "image/png": "[encoded data removed]",
      "text/plain": [
       "<Figure size 640x480 with 1 Axes>"
      ]
     },
     "metadata": {},
     "output_type": "display_data"
    }
   ],
   "source": [
    "sns.histplot(data2[\"SepalWidthCm\"],kde=True)"
   ]
  },
  {
   "cell_type": "code",
   "execution_count": 108,
   "id": "f42f7445",
   "metadata": {},
   "outputs": [
    {
     "data": {
      "text/plain": [
       "<AxesSubplot:xlabel='PetalLengthCm', ylabel='Count'>"
      ]
     },
     "execution_count": 108,
     "metadata": {},
     "output_type": "execute_result"
    },
    {
     "data": {
      "image/png": "[encoded data removed]",
      "text/plain": [
       "<Figure size 640x480 with 1 Axes>"
      ]
     },
     "metadata": {},
     "output_type": "display_data"
    }
   ],
   "source": [
    "sns.histplot(data2[\"PetalLengthCm\"],kde=True)"
   ]
  },
  {
   "cell_type": "code",
   "execution_count": 128,
   "id": "f5f02b9a",
   "metadata": {},
   "outputs": [
    {
     "data": {
      "text/plain": [
       "<AxesSubplot:xlabel='PetalWidthCm', ylabel='Count'>"
      ]
     },
     "execution_count": 128,
     "metadata": {},
     "output_type": "execute_result"
    },
    {
     "data": {
      "image/png": "[encoded data removed]",
      "text/plain": [
       "<Figure size 640x480 with 1 Axes>"
      ]
     },
     "metadata": {},
     "output_type": "display_data"
    }
   ],
   "source": [
    "sns.histplot(data2[\"PetalWidthCm\"],kde=True)"
   ]
  },
  {
   "cell_type": "code",
   "execution_count": 130,
   "id": "a7654af3",
   "metadata": {},
   "outputs": [],
   "source": [
    "s=np.random.normal(0.5,0.2,1000)"
   ]
  },
  {
   "cell_type": "code",
   "execution_count": 141,
   "id": "abb68b9e",
   "metadata": {},
   "outputs": [
    {
     "data": {
      "text/plain": [
       "array([ 0.82295708,  0.78217155,  0.33740074,  0.32480652,  0.52449064,\n",
       "        0.45747908,  0.43122614,  0.52896462,  0.67886609,  0.32288267,\n",
       "        0.72367474,  0.54904777,  0.26847865,  0.41782883,  0.59545224,\n",
       "        0.20695138,  0.11012259,  0.58458143,  0.28946075,  0.39280296,\n",
       "        0.6015926 ,  0.38973089,  0.88106468,  0.12967553,  0.0368062 ,\n",
       "        0.19089516,  0.66752231,  0.15241282,  0.347062  ,  0.38045798,\n",
       "        0.29656985,  0.62416499,  0.44061706,  0.28218271,  0.48119111,\n",
       "        0.33639745,  0.22617486,  0.59993716,  0.5482701 ,  0.69791099,\n",
       "        0.20496556,  0.74703002,  0.27862331,  0.30942152,  0.53355576,\n",
       "        0.39250678,  0.39979107,  0.87045307,  0.55975158,  0.61359749,\n",
       "        0.63465632,  0.77832031,  0.42995422,  0.41074365,  0.71524143,\n",
       "        0.5817001 ,  0.15802231,  0.54425137,  0.16198791,  0.51981065,\n",
       "        0.32925255,  0.38110384,  0.90431684,  0.60853522,  0.79598907,\n",
       "        0.56796208,  0.46288401,  0.22013297,  0.79594664,  0.33889853,\n",
       "        0.61131455,  0.47962609,  0.35649992,  0.33333767,  0.65521742,\n",
       "        0.54661806,  0.5869593 ,  1.08151165,  0.24011032,  0.4776334 ,\n",
       "        0.66107536,  0.83352201,  0.42024825,  0.50997987,  0.35209969,\n",
       "        0.48297285,  0.35128301,  0.26785688,  1.01141578,  0.5031096 ,\n",
       "        0.43518176,  0.40560273,  0.51070694,  0.33888459,  0.54876056,\n",
       "        0.85243816,  0.65868018,  0.67939165,  0.7217918 ,  0.83635206,\n",
       "        0.59931203,  0.33191636,  0.42737935,  0.5294381 ,  0.60488643,\n",
       "        0.96203779,  0.50466726,  0.29033696,  0.35643559,  0.59632282,\n",
       "        0.08785103,  0.19013511,  0.26031354,  0.49579024,  0.64556648,\n",
       "        0.72839728,  0.29304117,  0.797624  ,  0.24606044,  0.27260204,\n",
       "        0.37478096,  0.41149415,  0.37653838,  0.64258898,  0.0481492 ,\n",
       "        0.61253093,  0.41208746,  0.52109672,  0.30071403,  0.8315454 ,\n",
       "        0.58033281,  0.39029358,  0.24965385,  0.47914792,  0.63135482,\n",
       "        0.57118175,  0.61195198,  0.20811207,  0.37103874,  0.72066094,\n",
       "        0.88270064,  0.5846617 ,  0.70362586,  0.18510656,  0.54448609,\n",
       "        0.27362176,  0.69063031,  0.60899732,  0.23981116,  0.82415301,\n",
       "        0.78383464,  0.42607518,  0.41101107,  0.46115509,  0.50129693,\n",
       "        0.27838309,  0.30520941,  0.28469289,  0.39466639,  0.25227992,\n",
       "        0.33338881,  0.43810935,  0.50129522,  0.63274943,  0.60501916,\n",
       "        0.80881349,  0.36062795,  0.44945895,  0.45653835,  0.54789902,\n",
       "        0.21618955,  0.29540273,  0.34659926,  0.3482956 ,  0.92631928,\n",
       "        0.69459498,  0.838479  ,  0.53537618,  0.36464353,  0.49827036,\n",
       "        0.38412936,  0.24733212,  0.80785644,  0.67339888,  0.49009214,\n",
       "        0.31303356,  0.61320186,  0.53073493,  0.52310629,  0.55955553,\n",
       "        0.45778703,  0.3806428 ,  0.6080642 ,  0.3723211 ,  0.35352196,\n",
       "        0.87232287,  0.55751475,  0.22397623,  0.51282196,  0.30020538,\n",
       "        0.02192936,  0.4422321 ,  0.79229644,  0.24862346,  0.72203229,\n",
       "        0.49270712,  0.53540173,  0.8712805 ,  0.57751927,  0.68404409,\n",
       "        0.32813013,  0.3325608 ,  0.3457311 ,  0.65220003,  0.49820895,\n",
       "        0.6649053 ,  0.19763134,  0.46501099,  0.68740074,  0.51057576,\n",
       "        0.69247705,  0.73977795,  0.47461566, -0.03210455,  0.6021273 ,\n",
       "        0.66585835,  0.72589709,  0.41606298,  0.51622456,  0.38488752,\n",
       "        0.23336157,  0.64857966,  0.52334946,  0.33008156,  0.50459434,\n",
       "        0.76202263,  0.4346538 ,  0.55945337,  0.59848223,  0.39437674,\n",
       "        0.43666995,  0.4613128 ,  0.57828101,  0.50802923,  0.44014101,\n",
       "        0.68803474,  0.56792847,  0.67875527,  0.51550805,  0.8268008 ,\n",
       "        0.69129594,  0.15762447,  0.29952726,  0.505956  ,  0.58684767,\n",
       "        0.34500557,  0.61014458,  0.4269281 ,  0.54722688,  0.44524688,\n",
       "        0.47207863,  0.42317212,  0.65672884,  0.72617642,  0.54741698,\n",
       "        0.42832464,  0.30300506,  0.22923556,  0.50891213,  0.58454965,\n",
       "        0.760147  ,  0.41919137,  0.52201961,  0.66872693,  0.31681223,\n",
       "        0.21669289,  0.2251881 ,  0.03709015,  0.52392521,  0.39265965,\n",
       "        0.57187924,  0.56681305,  0.62690399,  0.40196478,  0.47614907,\n",
       "        0.45679659,  0.44332917,  0.62574832,  0.56251356,  0.48776498,\n",
       "        0.45022553,  0.63684621,  0.53042863,  0.42420121,  0.41144658,\n",
       "        0.42512246,  0.32514005,  0.49877862,  0.45390862,  0.42399163,\n",
       "        0.42988455,  0.55410235,  0.68028453,  0.3545777 ,  0.52584368,\n",
       "        0.83423325,  0.45142012,  0.54595261,  0.05919863,  0.72264626,\n",
       "        0.55847426,  0.2761222 ,  0.21934691,  0.58511907,  0.38839069,\n",
       "        0.65980841,  0.08300635,  0.56376867,  0.60257904,  0.52414221,\n",
       "        0.30251685,  0.0350444 ,  0.34554354,  0.40053692,  0.45537344,\n",
       "        0.24985297,  0.51831927,  0.47843523,  0.66517768,  0.05100909,\n",
       "        0.65715597,  0.72094141,  0.2417661 ,  0.71434568,  0.39991928,\n",
       "        0.41112198,  0.12604801,  0.31527422,  0.52115885,  0.22263889,\n",
       "        0.44667926,  0.35772574,  0.676768  ,  0.8151298 ,  0.73043703,\n",
       "        0.52029127,  0.34957808,  0.61311855,  0.46965944,  0.50259711,\n",
       "        0.20185771,  0.64018466,  0.49201613,  0.5459735 ,  0.66712053,\n",
       "        0.2857762 ,  0.540665  ,  0.88563349,  0.87382755,  0.85704085,\n",
       "        0.71480844,  0.39571471,  0.65135478,  0.56330243,  0.35817137,\n",
       "        0.11676694,  0.20944223,  0.45108049,  0.63855493,  0.74556955,\n",
       "        0.70784762,  0.7978161 ,  0.1896333 ,  0.50457898,  0.68468177,\n",
       "        0.51083273,  0.37435706,  0.54208906,  0.47807289,  0.50498032,\n",
       "        0.66395269,  0.7369397 ,  0.3793876 ,  0.20412861,  0.79095586,\n",
       "        0.17973177,  0.82926703,  0.52912161,  0.60252227,  0.72131319,\n",
       "        0.84887799,  0.29200563,  0.77500322,  0.50162716,  0.31183566,\n",
       "        0.86788918,  0.11468888,  0.57400176,  0.55203462,  0.70867122,\n",
       "        0.38862272,  0.27447748,  0.34181699,  0.70217469,  0.66938671,\n",
       "        0.81535244,  0.34440231,  0.62512941,  0.73306483,  0.37676686,\n",
       "        0.31060609,  0.41913901,  0.08680883,  0.44715394,  0.48140106,\n",
       "        0.83130958,  0.37432253,  0.53282038,  0.66096413,  0.49062218,\n",
       "        0.57084392,  0.46419405,  0.43336099,  0.64771128,  0.7142576 ,\n",
       "        0.14816502,  0.72805373,  0.576413  ,  0.60732688,  0.67574877,\n",
       "        0.47757453,  0.7834276 ,  0.43314713,  0.50610714,  0.61282297,\n",
       "        0.44904228,  0.59755187,  0.8492897 ,  0.62944711,  0.48244721,\n",
       "        0.44829734,  0.12657622,  0.29436529,  0.63731764,  0.36432277,\n",
       "        0.37213502,  0.26828137,  1.22823307,  1.18078428,  0.42299036,\n",
       "        0.67813107,  0.44783744,  0.60910396,  0.68353266,  0.53446681,\n",
       "        0.53604277,  0.56812227,  0.39619303,  0.86182972,  0.55489109,\n",
       "        0.27880303,  0.55653254,  0.51328479,  0.46826335,  0.45880523,\n",
       "        1.06753658,  0.70894929,  0.61933295,  0.30462883,  0.37015532,\n",
       "        0.42315098,  0.66313649,  0.65257827,  0.49120424,  0.38117855,\n",
       "        0.61701906,  0.50586581,  0.54154304,  0.55815589,  0.64028342,\n",
       "        0.25264609,  0.51885415,  0.49303582,  0.57429355,  0.68923937,\n",
       "        0.76603405,  0.15686509,  0.39888266,  0.7679761 ,  0.72519238,\n",
       "        0.56655282,  0.47273067,  0.63361868,  0.77579146,  0.24302671,\n",
       "        0.78423383,  0.61761322,  0.23975571,  0.28777958,  0.44081558,\n",
       "        0.61356068,  0.70085415,  0.46015533,  0.59624376,  0.17297315,\n",
       "        0.31160549,  0.22300485,  0.76566143,  0.65650475,  0.57836948,\n",
       "        0.72289111,  1.02220561,  0.55608652,  0.96547729,  0.58851828,\n",
       "        0.53243864,  0.74010331,  0.18668812,  0.61512528,  0.63635609,\n",
       "        0.56867822,  0.72054437,  0.49128353,  0.54099333,  0.35851911,\n",
       "        0.65348479,  0.44043579,  0.59142353,  0.70828863,  0.65463198,\n",
       "        0.40365517,  0.41853072,  0.30199431,  0.44991704,  0.66303682,\n",
       "        0.74453653,  0.76452201,  0.47825297,  0.62798376,  0.58460098,\n",
       "        0.81507111,  0.8797257 ,  0.47508508,  0.34326085,  0.28814734,\n",
       "        0.56332692,  0.45293752,  0.21982281,  0.59927977,  0.70259446,\n",
       "        0.5605201 ,  0.27856427,  0.60352519,  0.60147207,  0.39950049,\n",
       "        0.14325272,  0.44547778,  0.46959506,  0.36287719,  0.56130505,\n",
       "        0.80736499,  0.72192127,  0.39646301,  0.62433452,  0.54154   ,\n",
       "        0.5982718 ,  0.60262421,  0.33828165,  0.20105816,  0.53744998,\n",
       "        0.46959935,  0.8229762 ,  0.51888613,  0.42721202,  0.38351098,\n",
       "        0.54197729,  0.67153824,  0.43736284,  0.11656969,  0.39615416,\n",
       "        0.34467244,  0.34681674,  0.69989026,  0.36709433,  0.79089787,\n",
       "        0.37324421,  0.5222176 ,  0.80418618,  0.52419667,  0.18809512,\n",
       "        0.42305209,  0.21715717,  0.6000022 ,  0.39804097,  0.56537089,\n",
       "        0.50894541,  0.75542409,  0.72807344,  0.48408515, -0.11687275,\n",
       "        0.25930357,  0.52013331,  0.55309928,  0.52721998,  0.50611374,\n",
       "        0.53982777, -0.14931333,  0.54276658,  0.86828692,  0.42193062,\n",
       "        0.42500867,  0.63151934,  0.84741187,  0.13991089,  0.53285186,\n",
       "        0.40052403,  0.72472236,  0.55963971,  0.22516006,  0.78923809,\n",
       "        0.48434993,  0.80110098,  0.30227374,  0.30736171,  0.6601257 ,\n",
       "        0.53396495,  0.38481913,  0.20764187,  0.46477205,  0.72984901,\n",
       "        0.48579491,  0.51773146,  0.20382049,  0.80547031,  0.46222774,\n",
       "        0.23622546,  0.35114651,  0.38437667,  0.71870571,  0.86895748,\n",
       "        0.09085861,  0.56008172,  0.30068665,  0.98855261,  0.50485413,\n",
       "        0.72121857,  0.70291426,  0.37679326,  0.56350066,  0.33535422,\n",
       "        0.33007904,  0.42398408,  0.34266591,  0.67547124, -0.01723747,\n",
       "        0.42994684,  0.61685522,  0.2770526 ,  0.36202253,  0.38706343,\n",
       "        0.76770752,  0.22540392,  0.40126056,  0.74735944,  0.68541391,\n",
       "        0.33957579,  0.47317918,  0.61976682,  0.30314358,  0.96518262,\n",
       "        0.35943956,  0.4849904 ,  0.73002157,  0.36766288,  0.66173238,\n",
       "        0.39409782,  0.34450332,  0.84988844,  0.27508732,  0.58887816,\n",
       "        0.6743637 ,  0.65236952,  0.61652122,  0.81030704,  0.47982137,\n",
       "        0.97560708,  0.76107569,  0.52023019,  0.23391995,  0.60937398,\n",
       "        0.49192098,  0.66922681,  0.48892223,  0.58613832,  0.48048472,\n",
       "        0.40959013,  0.68153398,  0.08230635,  0.46924396,  0.68095361,\n",
       "        0.4739686 ,  0.46326698,  0.74798145,  0.76078158,  0.5854067 ,\n",
       "        0.21978562,  0.57511395,  0.37024443,  0.36466111,  0.56322073,\n",
       "        0.57406801,  0.68923472,  0.44763773,  0.37442038,  0.1464301 ,\n",
       "        0.5391769 ,  0.63160571,  0.09319042,  0.38803304,  0.50626537,\n",
       "        0.42506111,  0.75955399,  0.3550871 ,  0.57714126,  0.60042684,\n",
       "        0.74648154,  0.77989578,  0.3271883 ,  0.05183875,  0.72816831,\n",
       "        0.54645788,  0.17276591,  0.33500664,  0.91737217,  0.42124877,\n",
       "        0.4757192 ,  0.34148279,  0.05822698,  0.91894428,  0.34522859,\n",
       "        0.3041058 ,  0.25364088,  0.33643978,  0.32504076,  0.65224394,\n",
       "        0.225516  ,  0.77661507,  0.59112005,  0.74555912,  0.52299368,\n",
       "        0.43294056,  0.73888381,  0.43339412,  0.69465427,  0.60945913,\n",
       "        0.70430824,  0.36186514,  0.75681412,  0.26217699,  0.30241849,\n",
       "        0.56696745,  0.53625794,  0.22815875,  0.06640069,  0.57757835,\n",
       "        0.31074091,  0.36054671,  0.68769686,  0.0939508 ,  0.62241596,\n",
       "        0.26262615,  0.9493909 ,  0.49991138,  0.53059659,  0.23695685,\n",
       "        0.61356353,  0.18397063,  0.10687389,  0.30237477,  0.17284622,\n",
       "        0.18343098,  0.43022127,  0.54909421,  0.60080018,  0.24063669,\n",
       "        0.58726431, -0.03182212,  0.12886605,  0.32685597,  0.70105811,\n",
       "        0.28572188,  0.69099147,  0.64908352,  0.57869436,  0.76875382,\n",
       "        0.68356514,  0.60392098,  0.15974966,  0.17698093,  0.40311971,\n",
       "        0.56469398,  0.69757787,  0.33842622,  0.6663386 ,  0.34089292,\n",
       "        0.35825136,  0.24639638,  0.8920958 ,  0.16657378,  0.57706602,\n",
       "        0.69665369,  0.38663866,  0.57279871,  0.48740517,  0.30290249,\n",
       "        0.59646354,  0.45172238,  0.53293764,  0.73854788,  0.21539572,\n",
       "        0.65175106,  0.07491579,  0.20509448,  0.56753469,  0.66372416,\n",
       "        0.54928591,  0.35173236,  0.29918674,  0.71566913,  0.3836663 ,\n",
       "        0.0418247 ,  0.92789115,  0.51643309,  0.43067844,  0.68338993,\n",
       "        0.32991788,  0.84068894,  0.43487099,  0.57243826,  0.21447857,\n",
       "        0.83489204,  0.59983176,  0.54624461,  0.27152517,  0.10944733,\n",
       "        0.43960035,  0.44559694,  0.26049335,  0.38683699,  0.26765003,\n",
       "        0.33808679,  0.7328348 ,  0.29460064,  0.50073597,  0.5919288 ,\n",
       "        0.62051349,  0.64400375,  0.66252381,  0.73971575,  0.33493716,\n",
       "        0.63068048,  0.57541438,  0.7623194 ,  0.59267745,  0.05073641,\n",
       "        0.66645793,  0.66106562,  0.67853723,  0.54909105,  0.71347527,\n",
       "        0.36947804,  0.86413317,  0.44281615,  0.72642011,  0.47119026,\n",
       "        0.30537253,  0.34861955,  0.64136304,  0.89058911,  0.52624255,\n",
       "        0.31100824,  0.73489278,  0.24982299,  0.31142851,  0.54519534,\n",
       "        0.46056012,  0.22228224,  0.48502097,  0.3618116 ,  0.6340791 ,\n",
       "        0.40200388,  0.36434288,  0.43098894,  0.37183981,  0.49532664,\n",
       "        0.52217108,  0.49782666, -0.08948434,  0.62333525,  0.57453169,\n",
       "        0.27824671,  0.34309793,  0.39450296, -0.07558224,  0.65558845,\n",
       "        0.55702286,  0.46858886,  0.38980632,  0.28074421,  0.49685237,\n",
       "        0.29744027,  0.85505836,  0.81749914,  0.801657  ,  0.49801412,\n",
       "        0.39851704,  0.53725995,  0.49949701,  0.51999319,  0.47093002,\n",
       "        0.35415093,  0.44646783,  0.7749433 ,  0.16676629,  0.39468296,\n",
       "        0.69834463,  0.1261124 ,  0.74188777,  0.04862077,  0.95644432,\n",
       "        0.77076341,  0.55369431,  0.66261453,  0.62095771,  0.51343006,\n",
       "       -0.06256312,  0.42122919,  0.58778741,  0.57748828,  0.42864811,\n",
       "        0.36607405,  0.43375047,  0.52486444,  0.41026651,  0.11786955,\n",
       "        0.62328481,  0.22964966,  0.11928781,  0.49599296,  0.80698554,\n",
       "        0.59719547,  0.26650441,  0.52979618,  0.15539654,  0.59894222,\n",
       "        0.52861795,  0.50320692,  0.65131198,  0.7727569 ,  0.59378151,\n",
       "        0.22906905,  0.45690326,  0.26939686,  0.48547448,  0.50682623,\n",
       "        0.62602376,  0.30698087,  0.86520303,  0.26574441,  0.38647292,\n",
       "        0.24591068,  0.51180888,  0.56475237,  0.34677194,  0.47623759,\n",
       "        0.35936336,  0.75786402,  0.24071895,  0.50091948,  0.38027443,\n",
       "        0.36310237,  0.76440611,  0.22481377,  0.67638979,  0.71122703,\n",
       "        0.59742092,  0.90198537,  0.25981108,  0.47346833,  0.43093744,\n",
       "        0.5644041 ,  0.72457027,  0.6332711 ,  0.73623258,  0.8582111 ,\n",
       "        0.42132592,  0.54323561,  0.61071447,  0.43317429,  0.26144213])"
      ]
     },
     "execution_count": 141,
     "metadata": {},
     "output_type": "execute_result"
    }
   ],
   "source": [
    "s"
   ]
  },
  {
   "cell_type": "code",
   "execution_count": 131,
   "id": "2bd91723",
   "metadata": {},
   "outputs": [
    {
     "data": {
      "text/plain": [
       "<AxesSubplot:ylabel='Count'>"
      ]
     },
     "execution_count": 131,
     "metadata": {},
     "output_type": "execute_result"
    },
    {
     "data": {
      "image/png": "[encoded data removed]",
      "text/plain": [
       "<Figure size 640x480 with 1 Axes>"
      ]
     },
     "metadata": {},
     "output_type": "display_data"
    }
   ],
   "source": [
    "sns.histplot(s,kde=True)  "
   ]
  },
  {
   "cell_type": "code",
   "execution_count": 136,
   "id": "2300e0d5",
   "metadata": {},
   "outputs": [],
   "source": [
    "mu,sigma=3.0,1.0\n",
    "p=np.random.lognormal(mu,sigma,1000)"
   ]
  },
  {
   "cell_type": "code",
   "execution_count": 137,
   "id": "67807211",
   "metadata": {},
   "outputs": [
    {
     "data": {
      "text/plain": [
       "<AxesSubplot:ylabel='Count'>"
      ]
     },
     "execution_count": 137,
     "metadata": {},
     "output_type": "execute_result"
    },
    {
     "data": {
      "image/png": "[encoded data removed]",
      "text/plain": [
       "<Figure size 640x480 with 1 Axes>"
      ]
     },
     "metadata": {},
     "output_type": "display_data"
    }
   ],
   "source": [
    "sns.histplot(p,kde=True)  "
   ]
  },
  {
   "cell_type": "code",
   "execution_count": 138,
   "id": "6e665412",
   "metadata": {},
   "outputs": [
    {
     "data": {
      "text/plain": [
       "array([ 229.8237859 ,   43.26041949,   78.38612095,   29.2238246 ,\n",
       "          7.67170539,   27.19147578,   94.94405082,    4.26119506,\n",
       "        102.83440375,   11.47053029,   15.99030387,    1.63199302,\n",
       "         31.07162909,   51.70056038,   39.62442841,   21.27477363,\n",
       "         30.14902228,   59.10636432,   17.42423821,   14.14679323,\n",
       "        125.25757703,   20.20531554,   14.52317782,   40.46888364,\n",
       "         86.15687653,   10.43596846,    2.83742273,   25.58883719,\n",
       "          5.3928545 ,   16.39046801,   14.43246309,    3.93455017,\n",
       "         21.27414326,   13.70469574,    6.45223933,   32.16957209,\n",
       "         23.16313258,    6.92469508,   19.75716483,   15.59337081,\n",
       "          9.99347897,  224.03661329,    4.77385841,   84.55087978,\n",
       "          3.36509333,   56.54878842,   39.79897836,   23.95419724,\n",
       "          3.61231023,   11.29732145,   98.69280019,   17.4741172 ,\n",
       "         23.49702684,   12.86136233,   28.84411984,    8.26421873,\n",
       "         18.18805556,   21.0492926 ,    9.65991822,   73.11933761,\n",
       "         15.25369037,   27.38938674,   62.54645786,   11.56283753,\n",
       "         15.24975252,  118.87304876,   92.05447904,   13.82542748,\n",
       "         88.07934674,   54.50374643,  102.42615115,    7.49134954,\n",
       "          8.30866782,   11.73535597,   55.64231112,   11.02026944,\n",
       "          8.63831602,   39.22930629,   70.78985897,   18.78535862,\n",
       "        112.71661404,    7.29336481,   14.98628258,  123.64932107,\n",
       "          8.96518098,  164.41516648,    5.87371662,   12.50708249,\n",
       "         30.29788258,   22.56814304,   18.06945637,   41.36714963,\n",
       "         10.67222677,   37.87711118,    9.19034543,   18.94448826,\n",
       "          7.32460444,   16.20601745,    7.43974112,   51.31018244,\n",
       "         42.02573142,   32.47160143,    5.51623773,   17.20776966,\n",
       "         33.67046028,    5.33403123,    8.82717957,   35.22545622,\n",
       "         48.08109821,    7.41428202,   35.0057534 ,   11.78276869,\n",
       "         23.36311913,   46.86044894,   42.71684762,   51.26718664,\n",
       "          6.9586232 ,   31.52388395,   14.18672182,    3.33179491,\n",
       "         11.08832568,   15.5827517 ,   81.54466069,    5.7493027 ,\n",
       "          8.97296107,   49.77572277,   69.58541138,   17.05283715,\n",
       "         16.76784707,   30.13471979,   19.88208576,   67.25264632,\n",
       "         14.35627301,   51.21334721,   16.37419337,    7.88053556,\n",
       "        233.8092735 ,   25.1724182 ,  134.90135632,   31.32030463,\n",
       "          7.72789207,    9.19886759,   69.84087834,   27.82061613,\n",
       "         12.53629833,   25.60595135,   12.6808321 ,   41.03527698,\n",
       "         20.23972321,    9.80110795,    4.72724108,  180.16833954,\n",
       "         14.26819857,    6.28950677,   30.48905933,    2.75174865,\n",
       "         19.52872421,   11.63694757,   26.42539879,   15.41367206,\n",
       "         49.661594  ,   25.01610859,   36.25542149,   10.95325443,\n",
       "         26.6010189 ,   20.20358366,   85.92996143,    2.99578937,\n",
       "          4.68198675,   39.68336008,   11.00798546,   25.5201914 ,\n",
       "         69.95408573,    7.64329341,   22.64172082,    7.22360488,\n",
       "          3.90194967,    6.05662128,    4.29212601,   23.65593498,\n",
       "         36.69438386,    9.01628111,   30.05905771,   71.88168166,\n",
       "        123.30445102,   37.54718062,    4.63649378,   24.46104115,\n",
       "         88.30259515,    7.96012523,   65.95361836,   25.34650587,\n",
       "         21.56037268,   29.37683116,   10.92804727,   24.63918505,\n",
       "          5.81634292,    7.1187224 ,   24.78789726,   35.20372103,\n",
       "         11.59474912,   32.77024887,   13.45195867,   15.62553059,\n",
       "         33.52574039,   83.05074223,   54.91743708,   26.42129427,\n",
       "          9.90158385,    2.67337805,   34.99096359,   13.12118125,\n",
       "         43.36872005,  101.67245508,   24.47227049,   28.25020364,\n",
       "         47.22350948,   21.14060045,   13.56642777,   30.60665796,\n",
       "          2.87076117,  125.49044458,    5.50710726,   29.19279807,\n",
       "         96.5814086 ,   56.02258883,   63.63098993,    8.44639973,\n",
       "         15.76039471,   11.09837937,    6.62752228,  111.50731404,\n",
       "         43.57803787,   64.74589124,    9.58701207,   28.05135414,\n",
       "         74.26491927,   30.51781225,    8.36348269,   13.48652968,\n",
       "          2.82257413,   70.50816345,   96.28227925,   15.00077945,\n",
       "         10.80562603,   17.14246083,   25.29650498,   47.01001349,\n",
       "          6.4538951 ,  177.36687563,   17.64350716,    5.35236385,\n",
       "          9.45468086,   18.43448679,   11.65354199,   10.29696813,\n",
       "          2.93045619,   76.15280389,    4.92512668,   11.64080625,\n",
       "          6.29432502,    9.15202298,   26.12100676,   43.13186703,\n",
       "          3.24913946,   12.67778986,    8.56805317,   32.0087686 ,\n",
       "         15.65133242,    3.34102413,   22.51559738,   67.64827303,\n",
       "         17.11346393,   84.35815613,   60.51339827,   36.89922857,\n",
       "         18.76371569,   10.78409274,    2.50472687,   24.28110852,\n",
       "         55.5162324 ,   66.28030465,   26.12581623,   11.34836443,\n",
       "         27.40490153,   34.9830824 ,   28.01175049,   44.2279542 ,\n",
       "         22.48754773,   59.97595861,   10.24592549,   72.11268041,\n",
       "         41.70286407,   13.99602416,    1.42858065,   10.02110547,\n",
       "         39.93819978,   11.84435173,    8.73143351,   28.36728858,\n",
       "         63.11495097,    3.25443777,    4.51217822,   27.84004001,\n",
       "         59.62033633,   57.78313531,   11.48245282,   69.68607063,\n",
       "         66.26483905,    1.54816659,   39.64054747,    4.22756584,\n",
       "         26.87898505,   39.77260053,   47.28114534,   22.31735144,\n",
       "         14.80949882,   14.49782423,   14.84611617,   15.13450841,\n",
       "         12.00640178,   26.24409768,   15.57346694,   28.48115648,\n",
       "         15.26896493,   19.8197258 ,   19.22205061,   13.77082395,\n",
       "         18.30580428,   21.90923799,    6.82983567,   12.22218901,\n",
       "        200.80840529,    8.6585512 ,   54.31233433,   51.66154277,\n",
       "         29.71398627,   15.89197424,   29.48718529,    3.98305577,\n",
       "         28.0369318 ,   28.96064165,   75.32694147,    5.93994465,\n",
       "         56.12738943,   29.58050915,   20.64904095,   48.19670053,\n",
       "         37.35058495,   19.38667486,   33.54844057,   14.64081959,\n",
       "         54.15462429,   15.93259112,   22.16924641,   55.73770976,\n",
       "         71.79379497,   42.98501345,   27.69209276,   12.65546754,\n",
       "          4.64029746,   33.67309316,    7.08277589,   40.09190749,\n",
       "         16.64434974,    8.1092285 ,   21.25594604,   42.55719859,\n",
       "         30.8320427 ,    4.06518714,    6.67778576,   99.59252373,\n",
       "         11.54991971,   49.60561511,   88.42258156,    4.31752784,\n",
       "         73.10439113,    4.51330521,   21.11078895,   34.04481756,\n",
       "         54.33063558,   30.59284868,   16.82003538,   43.09443339,\n",
       "          5.46973387,  220.82381331,   29.64311017,   48.18825677,\n",
       "         37.96778705,   23.17453113,   10.7696452 ,    6.20039441,\n",
       "         42.87145696,   12.59847163,   11.9518009 ,   17.08354155,\n",
       "          4.05290419,   13.04719234,   15.44017261,   30.38320037,\n",
       "         36.77392733,    5.90750362,   16.30461421,    5.69412814,\n",
       "         33.09919731,   17.63608973,   29.5155448 ,   13.59862965,\n",
       "         10.45794713,   18.76285958,   24.42417581, 1032.94499749,\n",
       "         10.6271445 ,   16.24763817,   37.11050999,   13.79878694,\n",
       "          5.94051279,   10.08874511,   12.63654983,   73.4529051 ,\n",
       "         87.70983652,   10.01879781,  152.18187794,   72.14294097,\n",
       "         26.84488026,   33.50615325,   46.31388801,   19.6309067 ,\n",
       "         93.23573915,   10.43683433,   97.48651043,    5.59026917,\n",
       "         20.84353572,   13.5117064 ,   20.71865677,    7.67667811,\n",
       "         35.58017189,    8.17997967,   45.94342113,   14.53075804,\n",
       "         11.49663158,   11.22931868,   11.83429336,   27.67760616,\n",
       "          4.92237168,   32.67756471,  171.9362529 ,   27.60587203,\n",
       "        134.18097996,   35.03627014,    5.58406711,   11.12624529,\n",
       "          8.31322119,   34.7357325 ,   11.05859057,   37.45614083,\n",
       "         15.69393376,   43.24813905,   26.53871579,   19.60534791,\n",
       "         14.28666808,   51.50815925,    3.69743437,    6.5185665 ,\n",
       "         73.44334301,   52.95488946,    8.74464959,    6.8707148 ,\n",
       "         19.16897641,    9.86439022,    3.46731662,   36.84099679,\n",
       "          7.99968829,   37.78631403,   67.08291823,   70.71072792,\n",
       "         28.97582607,   38.18187383,   15.01990762,   24.57635874,\n",
       "         34.68108882,   75.87926679,   17.3220939 ,   20.3302495 ,\n",
       "         19.85901581,    8.23470954,   51.04185327,  110.81114375,\n",
       "         19.59358096,    9.02142824,   35.18197688,    3.93739775,\n",
       "         33.21149104,    9.03359856,    6.37692504,   17.50117365,\n",
       "        825.82381773,    4.97370151,   16.45603807,   21.40706558,\n",
       "          9.30515242,    5.3691409 ,   37.30031829,    5.97351879,\n",
       "          4.7812829 ,   55.28285654,   14.10079389,   29.46387089,\n",
       "         64.32812084,  199.27502572,   20.34157963,    1.70654733,\n",
       "         83.77374058,   95.1145887 ,   19.20345391,   68.5795649 ,\n",
       "          2.90685745,   21.72503869,   28.85990443,   10.68241365,\n",
       "         10.50839661,   52.02486093,   32.04815567,   18.64836965,\n",
       "         96.70718107,   35.99444785,   15.74246719,    8.86093313,\n",
       "         40.65493029,   20.31983702,    8.71162793,  344.09522664,\n",
       "          8.09695883,   62.18747478,   23.01243208,   41.1564408 ,\n",
       "         32.7772764 ,   54.14745844,   33.76550714,   41.66544435,\n",
       "         22.90724182,    6.30589765,   14.89712971,    9.41132789,\n",
       "         20.76256524,    7.48661465,  573.3587191 ,   16.57266572,\n",
       "         16.25043747,   20.43627835,   26.79223906,   88.37702435,\n",
       "         19.33454553,   22.26861992,   16.94035281,  155.12910547,\n",
       "         50.30627301,   22.45925668,   14.99495008,   42.88645478,\n",
       "         11.21094774,   14.02216136,   81.00803022,   14.83809522,\n",
       "          6.87960801,   43.86944434,   23.83576546,    9.49319103,\n",
       "          9.82099698,   28.88494058,   24.0361926 ,  187.74855271,\n",
       "          6.54420623,   24.48099151,   44.61524588,   10.92943469,\n",
       "         36.922361  ,   36.57762095,   32.43647524,    2.07134665,\n",
       "         61.25391892,   41.30899102,   53.35082493,   15.53577839,\n",
       "         13.01690113,    3.1479709 ,   14.16979935,    5.27133852,\n",
       "          8.65155586,   10.79069951,   18.22117497,   13.72344955,\n",
       "         87.06298771,    7.25630114,   19.01184591,  173.99175266,\n",
       "         22.61781368,   29.19607519,   47.80809091,    3.3968451 ,\n",
       "        155.71974913,   20.12792191,    5.47790001,   56.14228032,\n",
       "         33.47432874,    9.24930014,   19.23021653,   10.73884614,\n",
       "         44.7621833 ,   15.49578367,   85.76212136,   16.53907346,\n",
       "          9.10116977,    3.06359291,  141.98785447,    5.33176261,\n",
       "         46.19489033,   45.16226299,   13.50637999,   15.46403169,\n",
       "          4.55490977,   72.34292592,   84.96215379,   19.15894876,\n",
       "         16.52499927,   32.81780592,   16.46574241,   15.80761533,\n",
       "         38.30988902,   39.93529956,   41.72786996,   12.71766603,\n",
       "          4.27951382,   34.77014433,   12.13532106,   67.1181358 ,\n",
       "         16.58304777,   20.78597804,   31.15495976,   34.3274745 ,\n",
       "         46.61073189,   16.06031979,    7.18940732,   52.73847242,\n",
       "         12.03603417,   32.51954596,  181.54518729,   34.62736157,\n",
       "          9.40731744,   84.10562338,   88.85819595,    8.8573342 ,\n",
       "          7.5446432 ,   23.0868944 ,    7.13759661,   15.50920568,\n",
       "         77.05293289,   67.74677495,   27.05125554,   16.8239895 ,\n",
       "         55.02263044,    9.64348432,  173.02611021,   33.54177206,\n",
       "         10.98587748,    5.32036445,    9.28003714,   11.18995932,\n",
       "         14.27577102,    1.29541619,   18.69675832,   21.1610768 ,\n",
       "          8.26763804,   22.38691157,    2.23452   ,   24.93747804,\n",
       "          6.29999149,    6.17335397,    1.78549218,   14.5516328 ,\n",
       "          3.04361029,   13.60166013,   30.88239751,    5.2916488 ,\n",
       "          3.69414152,   18.69454748,    4.6762848 ,   20.20283635,\n",
       "         31.80658472,   78.4610815 ,   53.43490371,   16.65322283,\n",
       "         12.47510596,   18.9868534 ,    6.48158697,   19.31314921,\n",
       "        141.64964427,   21.50052865,    8.53130736,    7.21929624,\n",
       "         19.46500779,   52.47037208,   41.47679034,   27.60809464,\n",
       "          8.79617946,   11.23414467,   75.47803223,    5.17882414,\n",
       "         20.11154642,   12.0049034 ,   29.166309  ,   13.07996372,\n",
       "         48.66011038,   17.87354771,   51.28973078,   39.58486501,\n",
       "         10.88713172,    3.74411783,    9.14176597,    5.35907677,\n",
       "          8.49645979,   48.21005266,   14.20628127,   39.9911518 ,\n",
       "         43.74736668,    8.91198006,   50.26820303,   14.46569918,\n",
       "         15.7251177 ,   37.84574596,   83.87300819,    6.87348202,\n",
       "         48.24387907,   15.42974731,   61.55772014,   13.62317572,\n",
       "          2.8906977 ,   19.85563051,  142.28092255,   41.29144182,\n",
       "         45.89222747,  159.16851115,   12.56726076,  128.91661678,\n",
       "         27.58036252,   16.50649387,    8.77533438,   14.14736245,\n",
       "         20.13260114,   17.954267  ,  107.11719349,    5.22500441,\n",
       "         12.62420953,   14.02759466,    6.42318377,    5.93617379,\n",
       "          4.29509915,   28.74263936,    9.39359681,   40.50474183,\n",
       "        269.86831974,   75.59366858,   21.70362683,   37.73531572,\n",
       "          5.06241593,   46.0056507 ,   57.24210162,    5.97125257,\n",
       "          5.15915859,   11.92125138,   63.01305789,   50.58410897,\n",
       "         46.52284018,    5.65806326,   34.41095404,   70.50212883,\n",
       "         20.96041318,    4.24430824,   20.328253  ,   34.45725987,\n",
       "          9.2855518 ,   47.45046222,    7.30278079,   21.90675301,\n",
       "          8.54167865,   62.91127373,   41.16375839,   15.66692054,\n",
       "         13.52981776,   26.2773869 ,   22.73320388,   13.71419157,\n",
       "         25.38737583,    3.4156185 ,   36.24801122,   38.64716653,\n",
       "          2.74296563,   19.31187746,   12.44683173,   27.33622652,\n",
       "          4.82677136,   21.27055302,   57.50901995,   68.47485564,\n",
       "          9.49781691,    1.68788817,    6.06430437,   70.55536414,\n",
       "         47.79027698,   15.75166845,   22.39127828,   32.16415416,\n",
       "          5.03813793,   58.08666847,   54.94131701,   17.68569709,\n",
       "         22.04355125,    2.67458002,    3.63916578,   29.32148043,\n",
       "         55.57533937,   18.73464033,    8.7591687 ,    9.73208091,\n",
       "         39.18376501,   12.69776249,   10.10420464,   48.13496714,\n",
       "         62.18278477,    4.57005626,   24.47486986,    9.92311428,\n",
       "         23.52408412,   36.77908954,    6.47336904,   13.13207225,\n",
       "          4.89224107,   16.4955816 ,   38.43204708,   70.62389488,\n",
       "        100.05000405,   13.13693298,    9.78531825,   20.64526827,\n",
       "         13.04457969,   10.95963485,    5.26618202,    2.69389196,\n",
       "         80.68064361,   15.00564734,   11.1647561 ,   15.29479965,\n",
       "          4.69008398,  161.39948192,   20.87820302,   59.61529659,\n",
       "         15.11063066,   36.59995408,    5.31969022,   28.55229489,\n",
       "         30.23825102,    8.98265088,   11.62537073,   68.31867135,\n",
       "         20.8228628 ,   26.36737726,    8.17156036,    4.77290033,\n",
       "         18.86133058,    3.03504347,    2.29560546,   16.98967901,\n",
       "         20.2647531 ,    7.14177273,    4.74320332,    9.96581959,\n",
       "          4.82535676,   27.65729804,  138.06930177,    2.97881565,\n",
       "         10.52146067,  138.3196891 ,  125.31069453,   17.6545585 ,\n",
       "         33.45426545,   21.48231931,    3.52932127,    5.47139224,\n",
       "         17.3505399 ,   25.10565257,  212.00223843,   49.0846843 ,\n",
       "         33.7139212 ,   47.15020455,   52.9949282 ,   10.11189538,\n",
       "         17.66549868,   12.66184633,   91.95437033,   31.79418795,\n",
       "          5.81435508,    9.53631652,   32.08166796,  166.21740364,\n",
       "         14.77186969,   54.90301546,    7.52736843,   12.26417052,\n",
       "         56.15271967,   12.67759076,    3.97772336,  159.90685553,\n",
       "         22.80154375,   60.24235492,   81.06005588,   11.52239228,\n",
       "         18.36000301,   24.8290863 ,   21.41304437,   19.6792996 ,\n",
       "         40.264911  ,   14.16439226,   25.60601247,   31.85445914,\n",
       "         41.32789869,    2.82122832,   26.70016451,   20.98408077,\n",
       "         19.68746366,   23.60715458,   14.86691109,   26.45368214,\n",
       "         26.42654103,    3.00705618,   45.31710694,    5.01433181,\n",
       "         51.98745035,   12.3880507 ,   63.52466488,   23.72719337,\n",
       "         12.41429789,   62.2164302 ,   14.47214208,    4.54574844,\n",
       "        101.59397417,   74.74838234,   12.53653184,   51.67723501,\n",
       "         15.75327273,   22.74368248,   16.61481413,   21.29418359,\n",
       "          9.26572421,   47.722693  ,   56.55268323,    8.4012105 ,\n",
       "        140.2341677 ,    9.60383288,   15.57686883,   17.39869654,\n",
       "          9.53368487,   47.22090851,   13.69480024,    5.47476396,\n",
       "          7.18276919,  153.6258909 ,   60.91996635,    5.29660289,\n",
       "         32.54330972,    7.63033782,   35.52120103,   18.53141129,\n",
       "         11.06184721,   12.51005351,    1.45860228,   14.6201801 ,\n",
       "          5.83400535,   86.85632644,   19.00674202,    6.355875  ,\n",
       "          6.47558557,   30.45619971,   40.10870758,   16.40258058,\n",
       "         47.83876189,   24.82486469,    7.35657366,   17.13483383,\n",
       "         25.56446749,   57.08537988,   49.24460197,    1.93358018,\n",
       "        144.63324309,   12.21199182,    3.42921555,  330.86170526,\n",
       "         18.16194923,   54.61595233,    4.25178704,    3.79029978])"
      ]
     },
     "execution_count": 138,
     "metadata": {},
     "output_type": "execute_result"
    }
   ],
   "source": [
    "p"
   ]
  },
  {
   "cell_type": "code",
   "execution_count": 139,
   "id": "bd4e36f7",
   "metadata": {},
   "outputs": [
    {
     "data": {
      "text/plain": [
       "<AxesSubplot:ylabel='Count'>"
      ]
     },
     "execution_count": 139,
     "metadata": {},
     "output_type": "execute_result"
    },
    {
     "data": {
      "image/png": "[encoded data removed]",
      "text/plain": [
       "<Figure size 640x480 with 1 Axes>"
      ]
     },
     "metadata": {},
     "output_type": "display_data"
    }
   ],
   "source": [
    "sns.histplot(np.log(p),kde=True)"
   ]
  },
  {
   "cell_type": "code",
   "execution_count": 142,
   "id": "43dcdade",
   "metadata": {},
   "outputs": [
    {
     "data": {
      "text/plain": [
       "[23, 24, 32, 45, 12, 43, 67, 45, 32, 56, 32]"
      ]
     },
     "execution_count": 142,
     "metadata": {},
     "output_type": "execute_result"
    }
   ],
   "source": [
    "data"
   ]
  },
  {
   "cell_type": "code",
   "execution_count": 148,
   "id": "e868d69e",
   "metadata": {},
   "outputs": [],
   "source": [
    "# QQ PLOT  (quantile-quantile plot)"
   ]
  },
  {
   "cell_type": "code",
   "execution_count": 144,
   "id": "0b81afd2",
   "metadata": {},
   "outputs": [],
   "source": [
    "import matplotlib.pyplot as plt\n",
    "import scipy.stats as stat\n",
    "import pylab\n",
    "def plot_data(sample):\n",
    "    plt.figure(figsize=(10,6))\n",
    "    plt.subplot(1,2,1)\n",
    "    sns.histplot(sample,kde=True)\n",
    "    plt.subplot(1,2,2)\n",
    "    stat.probplot(sample,dist='norm',plot=pylab)\n",
    "    plt.show()"
   ]
  },
  {
   "cell_type": "code",
   "execution_count": 145,
   "id": "7a4b2191",
   "metadata": {},
   "outputs": [
    {
     "data": {
      "image/png": "[encoded data removed]",
      "text/plain": [
       "<Figure size 1000x600 with 2 Axes>"
      ]
     },
     "metadata": {},
     "output_type": "display_data"
    }
   ],
   "source": [
    "plot_data(data)"
   ]
  },
  {
   "cell_type": "code",
   "execution_count": 146,
   "id": "a850537f",
   "metadata": {},
   "outputs": [
    {
     "data": {
      "image/png": "[encoded data removed]",
      "text/plain": [
       "<Figure size 1000x600 with 2 Axes>"
      ]
     },
     "metadata": {},
     "output_type": "display_data"
    }
   ],
   "source": [
    "plot_data(data_copy)"
   ]
  },
  {
   "cell_type": "code",
   "execution_count": 147,
   "id": "4a0cc254",
   "metadata": {},
   "outputs": [
    {
     "data": {
      "image/png": "[encoded data removed]",
      "text/plain": [
       "<Figure size 1000x600 with 2 Axes>"
      ]
     },
     "metadata": {},
     "output_type": "display_data"
    }
   ],
   "source": [
    "plot_data(s)"
   ]
  },
  {
   "cell_type": "code",
   "execution_count": 149,
   "id": "cdaf35bd",
   "metadata": {},
   "outputs": [
    {
     "data": {
      "image/png": "[encoded data removed]",
      "text/plain": [
       "<Figure size 1000x600 with 2 Axes>"
      ]
     },
     "metadata": {},
     "output_type": "display_data"
    }
   ],
   "source": [
    "plot_data(p)"
   ]
  },
  {
   "cell_type": "code",
   "execution_count": 151,
   "id": "88da6880",
   "metadata": {},
   "outputs": [
    {
     "data": {
      "image/png": "[encoded data removed]",
      "text/plain": [
       "<Figure size 1000x600 with 2 Axes>"
      ]
     },
     "metadata": {},
     "output_type": "display_data"
    }
   ],
   "source": [
    "plot_data(np.log(p))"
   ]
  },
  {
   "cell_type": "code",
   "execution_count": 152,
   "id": "c3a43498",
   "metadata": {},
   "outputs": [],
   "source": [
    "data3=pd.read_csv(\"https://raw.githubusercontent.com/sunnysavita10/Statistics_With_Python/main/Titanic.csv\")"
   ]
  },
  {
   "cell_type": "code",
   "execution_count": 153,
   "id": "8a7cc7bf",
   "metadata": {},
   "outputs": [
    {
     "data": {
      "text/html": [
       "<div>\n",
       "<style scoped>\n",
       "    .dataframe tbody tr th:only-of-type {\n",
       "        vertical-align: middle;\n",
       "    }\n",
       "\n",
       "    .dataframe tbody tr th {\n",
       "        vertical-align: top;\n",
       "    }\n",
       "\n",
       "    .dataframe thead th {\n",
       "        text-align: right;\n",
       "    }\n",
       "</style>\n",
       "<table border=\"1\" class=\"dataframe\">\n",
       "  <thead>\n",
       "    <tr style=\"text-align: right;\">\n",
       "      <th></th>\n",
       "      <th>PassengerId</th>\n",
       "      <th>Survived</th>\n",
       "      <th>Pclass</th>\n",
       "      <th>Name</th>\n",
       "      <th>Sex</th>\n",
       "      <th>Age</th>\n",
       "      <th>SibSp</th>\n",
       "      <th>Parch</th>\n",
       "      <th>Ticket</th>\n",
       "      <th>Fare</th>\n",
       "      <th>Cabin</th>\n",
       "      <th>Embarked</th>\n",
       "    </tr>\n",
       "  </thead>\n",
       "  <tbody>\n",
       "    <tr>\n",
       "      <th>0</th>\n",
       "      <td>1</td>\n",
       "      <td>0</td>\n",
       "      <td>3</td>\n",
       "      <td>Braund, Mr. Owen Harris</td>\n",
       "      <td>male</td>\n",
       "      <td>22.0</td>\n",
       "      <td>1</td>\n",
       "      <td>0</td>\n",
       "      <td>A/5 21171</td>\n",
       "      <td>7.2500</td>\n",
       "      <td>NaN</td>\n",
       "      <td>S</td>\n",
       "    </tr>\n",
       "    <tr>\n",
       "      <th>1</th>\n",
       "      <td>2</td>\n",
       "      <td>1</td>\n",
       "      <td>1</td>\n",
       "      <td>Cumings, Mrs. John Bradley (Florence Briggs Th...</td>\n",
       "      <td>female</td>\n",
       "      <td>38.0</td>\n",
       "      <td>1</td>\n",
       "      <td>0</td>\n",
       "      <td>PC 17599</td>\n",
       "      <td>71.2833</td>\n",
       "      <td>C85</td>\n",
       "      <td>C</td>\n",
       "    </tr>\n",
       "    <tr>\n",
       "      <th>2</th>\n",
       "      <td>3</td>\n",
       "      <td>1</td>\n",
       "      <td>3</td>\n",
       "      <td>Heikkinen, Miss. Laina</td>\n",
       "      <td>female</td>\n",
       "      <td>26.0</td>\n",
       "      <td>0</td>\n",
       "      <td>0</td>\n",
       "      <td>STON/O2. 3101282</td>\n",
       "      <td>7.9250</td>\n",
       "      <td>NaN</td>\n",
       "      <td>S</td>\n",
       "    </tr>\n",
       "    <tr>\n",
       "      <th>3</th>\n",
       "      <td>4</td>\n",
       "      <td>1</td>\n",
       "      <td>1</td>\n",
       "      <td>Futrelle, Mrs. Jacques Heath (Lily May Peel)</td>\n",
       "      <td>female</td>\n",
       "      <td>35.0</td>\n",
       "      <td>1</td>\n",
       "      <td>0</td>\n",
       "      <td>113803</td>\n",
       "      <td>53.1000</td>\n",
       "      <td>C123</td>\n",
       "      <td>S</td>\n",
       "    </tr>\n",
       "    <tr>\n",
       "      <th>4</th>\n",
       "      <td>5</td>\n",
       "      <td>0</td>\n",
       "      <td>3</td>\n",
       "      <td>Allen, Mr. William Henry</td>\n",
       "      <td>male</td>\n",
       "      <td>35.0</td>\n",
       "      <td>0</td>\n",
       "      <td>0</td>\n",
       "      <td>373450</td>\n",
       "      <td>8.0500</td>\n",
       "      <td>NaN</td>\n",
       "      <td>S</td>\n",
       "    </tr>\n",
       "    <tr>\n",
       "      <th>...</th>\n",
       "      <td>...</td>\n",
       "      <td>...</td>\n",
       "      <td>...</td>\n",
       "      <td>...</td>\n",
       "      <td>...</td>\n",
       "      <td>...</td>\n",
       "      <td>...</td>\n",
       "      <td>...</td>\n",
       "      <td>...</td>\n",
       "      <td>...</td>\n",
       "      <td>...</td>\n",
       "      <td>...</td>\n",
       "    </tr>\n",
       "    <tr>\n",
       "      <th>886</th>\n",
       "      <td>887</td>\n",
       "      <td>0</td>\n",
       "      <td>2</td>\n",
       "      <td>Montvila, Rev. Juozas</td>\n",
       "      <td>male</td>\n",
       "      <td>27.0</td>\n",
       "      <td>0</td>\n",
       "      <td>0</td>\n",
       "      <td>211536</td>\n",
       "      <td>13.0000</td>\n",
       "      <td>NaN</td>\n",
       "      <td>S</td>\n",
       "    </tr>\n",
       "    <tr>\n",
       "      <th>887</th>\n",
       "      <td>888</td>\n",
       "      <td>1</td>\n",
       "      <td>1</td>\n",
       "      <td>Graham, Miss. Margaret Edith</td>\n",
       "      <td>female</td>\n",
       "      <td>19.0</td>\n",
       "      <td>0</td>\n",
       "      <td>0</td>\n",
       "      <td>112053</td>\n",
       "      <td>30.0000</td>\n",
       "      <td>B42</td>\n",
       "      <td>S</td>\n",
       "    </tr>\n",
       "    <tr>\n",
       "      <th>888</th>\n",
       "      <td>889</td>\n",
       "      <td>0</td>\n",
       "      <td>3</td>\n",
       "      <td>Johnston, Miss. Catherine Helen \"Carrie\"</td>\n",
       "      <td>female</td>\n",
       "      <td>NaN</td>\n",
       "      <td>1</td>\n",
       "      <td>2</td>\n",
       "      <td>W./C. 6607</td>\n",
       "      <td>23.4500</td>\n",
       "      <td>NaN</td>\n",
       "      <td>S</td>\n",
       "    </tr>\n",
       "    <tr>\n",
       "      <th>889</th>\n",
       "      <td>890</td>\n",
       "      <td>1</td>\n",
       "      <td>1</td>\n",
       "      <td>Behr, Mr. Karl Howell</td>\n",
       "      <td>male</td>\n",
       "      <td>26.0</td>\n",
       "      <td>0</td>\n",
       "      <td>0</td>\n",
       "      <td>111369</td>\n",
       "      <td>30.0000</td>\n",
       "      <td>C148</td>\n",
       "      <td>C</td>\n",
       "    </tr>\n",
       "    <tr>\n",
       "      <th>890</th>\n",
       "      <td>891</td>\n",
       "      <td>0</td>\n",
       "      <td>3</td>\n",
       "      <td>Dooley, Mr. Patrick</td>\n",
       "      <td>male</td>\n",
       "      <td>32.0</td>\n",
       "      <td>0</td>\n",
       "      <td>0</td>\n",
       "      <td>370376</td>\n",
       "      <td>7.7500</td>\n",
       "      <td>NaN</td>\n",
       "      <td>Q</td>\n",
       "    </tr>\n",
       "  </tbody>\n",
       "</table>\n",
       "<p>891 rows × 12 columns</p>\n",
       "</div>"
      ],
      "text/plain": [
       "     PassengerId  Survived  Pclass  \\\n",
       "0              1         0       3   \n",
       "1              2         1       1   \n",
       "2              3         1       3   \n",
       "3              4         1       1   \n",
       "4              5         0       3   \n",
       "..           ...       ...     ...   \n",
       "886          887         0       2   \n",
       "887          888         1       1   \n",
       "888          889         0       3   \n",
       "889          890         1       1   \n",
       "890          891         0       3   \n",
       "\n",
       "                                                  Name     Sex   Age  SibSp  \\\n",
       "0                              Braund, Mr. Owen Harris    male  22.0      1   \n",
       "1    Cumings, Mrs. John Bradley (Florence Briggs Th...  female  38.0      1   \n",
       "2                               Heikkinen, Miss. Laina  female  26.0      0   \n",
       "3         Futrelle, Mrs. Jacques Heath (Lily May Peel)  female  35.0      1   \n",
       "4                             Allen, Mr. William Henry    male  35.0      0   \n",
       "..                                                 ...     ...   ...    ...   \n",
       "886                              Montvila, Rev. Juozas    male  27.0      0   \n",
       "887                       Graham, Miss. Margaret Edith  female  19.0      0   \n",
       "888           Johnston, Miss. Catherine Helen \"Carrie\"  female   NaN      1   \n",
       "889                              Behr, Mr. Karl Howell    male  26.0      0   \n",
       "890                                Dooley, Mr. Patrick    male  32.0      0   \n",
       "\n",
       "     Parch            Ticket     Fare Cabin Embarked  \n",
       "0        0         A/5 21171   7.2500   NaN        S  \n",
       "1        0          PC 17599  71.2833   C85        C  \n",
       "2        0  STON/O2. 3101282   7.9250   NaN        S  \n",
       "3        0            113803  53.1000  C123        S  \n",
       "4        0            373450   8.0500   NaN        S  \n",
       "..     ...               ...      ...   ...      ...  \n",
       "886      0            211536  13.0000   NaN        S  \n",
       "887      0            112053  30.0000   B42        S  \n",
       "888      2        W./C. 6607  23.4500   NaN        S  \n",
       "889      0            111369  30.0000  C148        C  \n",
       "890      0            370376   7.7500   NaN        Q  \n",
       "\n",
       "[891 rows x 12 columns]"
      ]
     },
     "execution_count": 153,
     "metadata": {},
     "output_type": "execute_result"
    }
   ],
   "source": [
    "data3"
   ]
  },
  {
   "cell_type": "code",
   "execution_count": 154,
   "id": "61a4d5cd",
   "metadata": {},
   "outputs": [
    {
     "name": "stdout",
     "output_type": "stream",
     "text": [
      "Collecting pandas-profiling\n",
      "  Downloading pandas_profiling-3.6.6-py2.py3-none-any.whl (324 kB)\n",
      "     ------------------------------------- 324.4/324.4 kB 70.8 kB/s eta 0:00:00\n",
      "Collecting ydata-profiling\n",
      "  Downloading ydata_profiling-4.0.0-py2.py3-none-any.whl (344 kB)\n",
      "     ------------------------------------- 344.5/344.5 kB 69.9 kB/s eta 0:00:00\n",
      "Requirement already satisfied: statsmodels<0.14,>=0.13.2 in c:\\users\\suchi\\anaconda3\\lib\\site-packages (from ydata-profiling->pandas-profiling) (0.13.2)\n",
      "Collecting htmlmin==0.1.12\n",
      "  Downloading htmlmin-0.1.12.tar.gz (19 kB)\n",
      "  Preparing metadata (setup.py): started\n",
      "  Preparing metadata (setup.py): finished with status 'done'\n",
      "Requirement already satisfied: PyYAML<6.1,>=5.0.0 in c:\\users\\suchi\\anaconda3\\lib\\site-packages (from ydata-profiling->pandas-profiling) (6.0)\n",
      "Requirement already satisfied: scipy<1.10,>=1.4.1 in c:\\users\\suchi\\anaconda3\\lib\\site-packages (from ydata-profiling->pandas-profiling) (1.9.1)\n",
      "Requirement already satisfied: numpy<1.24,>=1.16.0 in c:\\users\\suchi\\anaconda3\\lib\\site-packages (from ydata-profiling->pandas-profiling) (1.21.5)\n",
      "Requirement already satisfied: matplotlib<3.7,>=3.2 in c:\\users\\suchi\\anaconda3\\lib\\site-packages (from ydata-profiling->pandas-profiling) (3.5.2)\n",
      "Requirement already satisfied: tqdm<4.65,>=4.48.2 in c:\\users\\suchi\\anaconda3\\lib\\site-packages (from ydata-profiling->pandas-profiling) (4.64.1)\n",
      "Requirement already satisfied: seaborn<0.13,>=0.10.1 in c:\\users\\suchi\\anaconda3\\lib\\site-packages (from ydata-profiling->pandas-profiling) (0.11.2)\n",
      "Collecting visions[type_image_path]==0.7.5\n",
      "  Downloading visions-0.7.5-py3-none-any.whl (102 kB)\n",
      "     ------------------------------------- 102.7/102.7 kB 78.9 kB/s eta 0:00:00\n",
      "Requirement already satisfied: pandas!=1.4.0,<1.6,>1.1 in c:\\users\\suchi\\anaconda3\\lib\\site-packages (from ydata-profiling->pandas-profiling) (1.4.4)\n",
      "Collecting pydantic<1.11,>=1.8.1\n",
      "  Downloading pydantic-1.10.5-cp39-cp39-win_amd64.whl (2.2 MB)\n",
      "     ---------------------------------------- 2.2/2.2 MB 88.8 kB/s eta 0:00:00\n",
      "Requirement already satisfied: requests<2.29,>=2.24.0 in c:\\users\\suchi\\anaconda3\\lib\\site-packages (from ydata-profiling->pandas-profiling) (2.28.1)\n",
      "Requirement already satisfied: jinja2<3.2,>=2.11.1 in c:\\users\\suchi\\anaconda3\\lib\\site-packages (from ydata-profiling->pandas-profiling) (2.11.3)\n",
      "Collecting multimethod<1.10,>=1.4\n",
      "  Downloading multimethod-1.9.1-py3-none-any.whl (10 kB)\n",
      "Collecting typeguard<2.14,>=2.13.2\n",
      "  Downloading typeguard-2.13.3-py3-none-any.whl (17 kB)\n",
      "Collecting phik<0.13,>=0.11.1\n",
      "  Downloading phik-0.12.3-cp39-cp39-win_amd64.whl (663 kB)\n",
      "     ------------------------------------ 663.5/663.5 kB 486.0 kB/s eta 0:00:00\n",
      "Requirement already satisfied: networkx>=2.4 in c:\\users\\suchi\\anaconda3\\lib\\site-packages (from visions[type_image_path]==0.7.5->ydata-profiling->pandas-profiling) (2.8.4)\n",
      "Collecting tangled-up-in-unicode>=0.0.4\n",
      "  Downloading tangled_up_in_unicode-0.2.0-py3-none-any.whl (4.7 MB)\n",
      "     ---------------------------------------- 4.7/4.7 MB 600.7 kB/s eta 0:00:00\n",
      "Requirement already satisfied: attrs>=19.3.0 in c:\\users\\suchi\\anaconda3\\lib\\site-packages (from visions[type_image_path]==0.7.5->ydata-profiling->pandas-profiling) (21.4.0)\n",
      "Requirement already satisfied: Pillow in c:\\users\\suchi\\anaconda3\\lib\\site-packages (from visions[type_image_path]==0.7.5->ydata-profiling->pandas-profiling) (9.2.0)\n",
      "Collecting imagehash\n",
      "  Downloading ImageHash-4.3.1-py2.py3-none-any.whl (296 kB)\n",
      "     ------------------------------------ 296.5/296.5 kB 832.3 kB/s eta 0:00:00\n",
      "Requirement already satisfied: MarkupSafe>=0.23 in c:\\users\\suchi\\anaconda3\\lib\\site-packages (from jinja2<3.2,>=2.11.1->ydata-profiling->pandas-profiling) (2.0.1)\n",
      "Requirement already satisfied: pyparsing>=2.2.1 in c:\\users\\suchi\\anaconda3\\lib\\site-packages (from matplotlib<3.7,>=3.2->ydata-profiling->pandas-profiling) (3.0.9)\n",
      "Requirement already satisfied: kiwisolver>=1.0.1 in c:\\users\\suchi\\anaconda3\\lib\\site-packages (from matplotlib<3.7,>=3.2->ydata-profiling->pandas-profiling) (1.4.2)\n",
      "Requirement already satisfied: packaging>=20.0 in c:\\users\\suchi\\anaconda3\\lib\\site-packages (from matplotlib<3.7,>=3.2->ydata-profiling->pandas-profiling) (21.3)\n",
      "Requirement already satisfied: fonttools>=4.22.0 in c:\\users\\suchi\\anaconda3\\lib\\site-packages (from matplotlib<3.7,>=3.2->ydata-profiling->pandas-profiling) (4.25.0)\n",
      "Requirement already satisfied: python-dateutil>=2.7 in c:\\users\\suchi\\anaconda3\\lib\\site-packages (from matplotlib<3.7,>=3.2->ydata-profiling->pandas-profiling) (2.8.2)\n",
      "Requirement already satisfied: cycler>=0.10 in c:\\users\\suchi\\anaconda3\\lib\\site-packages (from matplotlib<3.7,>=3.2->ydata-profiling->pandas-profiling) (0.11.0)\n",
      "Requirement already satisfied: pytz>=2020.1 in c:\\users\\suchi\\anaconda3\\lib\\site-packages (from pandas!=1.4.0,<1.6,>1.1->ydata-profiling->pandas-profiling) (2022.1)\n",
      "Requirement already satisfied: joblib>=0.14.1 in c:\\users\\suchi\\anaconda3\\lib\\site-packages (from phik<0.13,>=0.11.1->ydata-profiling->pandas-profiling) (1.1.0)\n",
      "Requirement already satisfied: typing-extensions>=4.2.0 in c:\\users\\suchi\\anaconda3\\lib\\site-packages (from pydantic<1.11,>=1.8.1->ydata-profiling->pandas-profiling) (4.3.0)\n",
      "Requirement already satisfied: idna<4,>=2.5 in c:\\users\\suchi\\anaconda3\\lib\\site-packages (from requests<2.29,>=2.24.0->ydata-profiling->pandas-profiling) (3.3)\n",
      "Requirement already satisfied: urllib3<1.27,>=1.21.1 in c:\\users\\suchi\\anaconda3\\lib\\site-packages (from requests<2.29,>=2.24.0->ydata-profiling->pandas-profiling) (1.26.11)\n",
      "Requirement already satisfied: certifi>=2017.4.17 in c:\\users\\suchi\\anaconda3\\lib\\site-packages (from requests<2.29,>=2.24.0->ydata-profiling->pandas-profiling) (2022.9.14)\n",
      "Requirement already satisfied: charset-normalizer<3,>=2 in c:\\users\\suchi\\anaconda3\\lib\\site-packages (from requests<2.29,>=2.24.0->ydata-profiling->pandas-profiling) (2.0.4)\n",
      "Requirement already satisfied: patsy>=0.5.2 in c:\\users\\suchi\\anaconda3\\lib\\site-packages (from statsmodels<0.14,>=0.13.2->ydata-profiling->pandas-profiling) (0.5.2)\n",
      "Requirement already satisfied: colorama in c:\\users\\suchi\\anaconda3\\lib\\site-packages (from tqdm<4.65,>=4.48.2->ydata-profiling->pandas-profiling) (0.4.5)\n",
      "Requirement already satisfied: six in c:\\users\\suchi\\anaconda3\\lib\\site-packages (from patsy>=0.5.2->statsmodels<0.14,>=0.13.2->ydata-profiling->pandas-profiling) (1.16.0)\n",
      "Requirement already satisfied: PyWavelets in c:\\users\\suchi\\anaconda3\\lib\\site-packages (from imagehash->visions[type_image_path]==0.7.5->ydata-profiling->pandas-profiling) (1.3.0)\n",
      "Building wheels for collected packages: htmlmin\n",
      "  Building wheel for htmlmin (setup.py): started\n",
      "  Building wheel for htmlmin (setup.py): finished with status 'done'\n",
      "  Created wheel for htmlmin: filename=htmlmin-0.1.12-py3-none-any.whl size=27082 sha256=add6d27ebc688f5fc1fbd2c663df7a0278103664106d967fc9f8c603ab017c0a\n",
      "  Stored in directory: c:\\users\\suchi\\appdata\\local\\pip\\cache\\wheels\\1d\\05\\04\\c6d7d3b66539d9e659ac6dfe81e2d0fd4c1a8316cc5a403300\n",
      "Successfully built htmlmin\n",
      "Installing collected packages: htmlmin, typeguard, tangled-up-in-unicode, pydantic, multimethod, imagehash, visions, phik, ydata-profiling, pandas-profiling\n",
      "Successfully installed htmlmin-0.1.12 imagehash-4.3.1 multimethod-1.9.1 pandas-profiling-3.6.6 phik-0.12.3 pydantic-1.10.5 tangled-up-in-unicode-0.2.0 typeguard-2.13.3 visions-0.7.5 ydata-profiling-4.0.0\n"
     ]
    }
   ],
   "source": [
    "!pip install pandas-profiling"
   ]
  },
  {
   "cell_type": "code",
   "execution_count": 155,
   "id": "411c80d6",
   "metadata": {},
   "outputs": [
    {
     "name": "stderr",
     "output_type": "stream",
     "text": [
      "C:\\Users\\suchi\\AppData\\Local\\Temp\\ipykernel_17192\\3066545039.py:1: DeprecationWarning: `import pandas_profiling` is going to be deprecated by April 1st. Please use `import ydata_profiling` instead.\n",
      "  import pandas_profiling\n"
     ]
    }
   ],
   "source": [
    "import pandas_profiling\n",
    "profile = data3.profile_report()"
   ]
  },
  {
   "cell_type": "code",
   "execution_count": 156,
   "id": "593b3a1a",
   "metadata": {},
   "outputs": [
    {
     "data": {
      "application/vnd.jupyter.widget-view+json": {
       "model_id": "fcac4527dfbd4cfa9ceb0e28072cc689",
       "version_major": 2,
       "version_minor": 0
      },
      "text/plain": [
       "Summarize dataset:   0%|          | 0/5 [00:00<?, ?it/s]"
      ]
     },
     "metadata": {},
     "output_type": "display_data"
    },
    {
     "data": {
      "application/vnd.jupyter.widget-view+json": {
       "model_id": "1baecd74ab124ee4bdca02de52fe9f2c",
       "version_major": 2,
       "version_minor": 0
      },
      "text/plain": [
       "Generate report structure:   0%|          | 0/1 [00:00<?, ?it/s]"
      ]
     },
     "metadata": {},
     "output_type": "display_data"
    },
    {
     "data": {
      "application/vnd.jupyter.widget-view+json": {
       "model_id": "61b9dc0bf0d9499e80a2223c6892793e",
       "version_major": 2,
       "version_minor": 0
      },
      "text/plain": [
       "Render HTML:   0%|          | 0/1 [00:00<?, ?it/s]"
      ]
     },
     "metadata": {},
     "output_type": "display_data"
    },
    {
     "data": {
      "application/vnd.jupyter.widget-view+json": {
       "model_id": "f17861f46c95472f80baa5aa5646d740",
       "version_major": 2,
       "version_minor": 0
      },
      "text/plain": [
       "Export report to file:   0%|          | 0/1 [00:00<?, ?it/s]"
      ]
     },
     "metadata": {},
     "output_type": "display_data"
    }
   ],
   "source": [
    "profile.to_file(output_file=\"output.html\")"
   ]
  },
  {
   "cell_type": "code",
   "execution_count": null,
   "id": "d03c9db3",
   "metadata": {},
   "outputs": [],
   "source": []
  }
 ],
 "metadata": {
  "kernelspec": {
   "display_name": "Python 3 (ipykernel)",
   "language": "python",
   "name": "python3"
  },
  "language_info": {
   "codemirror_mode": {
    "name": "ipython",
    "version": 3
   },
   "file_extension": ".py",
   "mimetype": "text/x-python",
   "name": "python",
   "nbconvert_exporter": "python",
   "pygments_lexer": "ipython3",
   "version": "3.9.13"
  }
 },
 "nbformat": 4,
 "nbformat_minor": 5
}
