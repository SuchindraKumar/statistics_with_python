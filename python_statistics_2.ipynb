{
 "cells": [
  {
   "cell_type": "code",
   "execution_count": 1,
   "id": "507db69b",
   "metadata": {},
   "outputs": [],
   "source": [
    "import numpy as np \n",
    "from statistics import mode"
   ]
  },
  {
   "cell_type": "code",
   "execution_count": 2,
   "id": "423de390",
   "metadata": {},
   "outputs": [
    {
     "data": {
      "text/plain": [
       "11"
      ]
     },
     "execution_count": 2,
     "metadata": {},
     "output_type": "execute_result"
    }
   ],
   "source": [
    "np.random.randint(10,20)"
   ]
  },
  {
   "cell_type": "code",
   "execution_count": 3,
   "id": "f0a4bdbf",
   "metadata": {},
   "outputs": [],
   "source": [
    "population=np.random.randint(10,20,50)"
   ]
  },
  {
   "cell_type": "code",
   "execution_count": 4,
   "id": "ee387c61",
   "metadata": {},
   "outputs": [
    {
     "data": {
      "text/plain": [
       "array([19, 19, 18, 12, 18, 10, 13, 10, 19, 13, 15, 18, 18, 14, 19, 14, 17,\n",
       "       12, 11, 14, 19, 18, 19, 15, 11, 15, 12, 18, 11, 12, 17, 18, 18, 13,\n",
       "       15, 11, 13, 13, 10, 18, 10, 18, 11, 17, 19, 13, 15, 10, 18, 15])"
      ]
     },
     "execution_count": 4,
     "metadata": {},
     "output_type": "execute_result"
    }
   ],
   "source": [
    "population"
   ]
  },
  {
   "cell_type": "code",
   "execution_count": 5,
   "id": "36e2fbce",
   "metadata": {},
   "outputs": [
    {
     "data": {
      "text/plain": [
       "14.9"
      ]
     },
     "execution_count": 5,
     "metadata": {},
     "output_type": "execute_result"
    }
   ],
   "source": [
    "np.mean(population)"
   ]
  },
  {
   "cell_type": "code",
   "execution_count": 6,
   "id": "6e780b1b",
   "metadata": {},
   "outputs": [
    {
     "data": {
      "text/plain": [
       "15.0"
      ]
     },
     "execution_count": 6,
     "metadata": {},
     "output_type": "execute_result"
    }
   ],
   "source": [
    "np.median(population)"
   ]
  },
  {
   "cell_type": "code",
   "execution_count": 7,
   "id": "5b4de79b",
   "metadata": {},
   "outputs": [
    {
     "data": {
      "text/plain": [
       "18"
      ]
     },
     "execution_count": 7,
     "metadata": {},
     "output_type": "execute_result"
    }
   ],
   "source": [
    "mode(population)"
   ]
  },
  {
   "cell_type": "code",
   "execution_count": 8,
   "id": "fe0df546",
   "metadata": {},
   "outputs": [
    {
     "name": "stdout",
     "output_type": "stream",
     "text": [
      "mean of the populatin 14.9\n",
      "median of the populatin 15.0\n",
      "mode of the populatin 18\n"
     ]
    }
   ],
   "source": [
    "print(f\"mean of the populatin {np.mean(population)}\")\n",
    "print(f\"median of the populatin {np.median(population)}\")\n",
    "print(f\"mode of the populatin {mode(population)}\")"
   ]
  },
  {
   "cell_type": "code",
   "execution_count": 9,
   "id": "cd3f6361",
   "metadata": {},
   "outputs": [],
   "source": [
    "sample=np.random.choice(population,5)"
   ]
  },
  {
   "cell_type": "code",
   "execution_count": 10,
   "id": "d4250e71",
   "metadata": {},
   "outputs": [
    {
     "name": "stdout",
     "output_type": "stream",
     "text": [
      "mean of the sample 17.0\n",
      "median of the sample 18.0\n",
      "mode of the sample 18\n"
     ]
    }
   ],
   "source": [
    "print(f\"mean of the sample {np.mean(sample)}\")\n",
    "print(f\"median of the sample {np.median(sample)}\")\n",
    "print(f\"mode of the sample {mode(sample)}\")"
   ]
  },
  {
   "cell_type": "code",
   "execution_count": 11,
   "id": "daa48219",
   "metadata": {},
   "outputs": [],
   "source": [
    "sample1=np.random.choice(population,20)\n",
    "sample2=np.random.choice(population,20)\n",
    "sample3=np.random.choice(population,20)\n",
    "sample4=np.random.choice(population,20)"
   ]
  },
  {
   "cell_type": "code",
   "execution_count": 12,
   "id": "d78d204c",
   "metadata": {},
   "outputs": [
    {
     "name": "stdout",
     "output_type": "stream",
     "text": [
      "[12 19 10 18 12 18 11 18 10 15 15 18 13 13 18 18 12 18 19 11]\n",
      "============================================================\n",
      "[18 10 18 17 19 17 11 18 18 19 13 15 12 15 17 18 13 19 17 19]\n",
      "============================================================\n",
      "[18 15 18 11 10 12 19 19 15 11 13 18 13 13 17 19 18 12 10 18]\n",
      "============================================================\n",
      "[18 12 12 18 18 19 11 11 18 15 11 18 14 18 11 15 18 13 10 18]\n"
     ]
    }
   ],
   "source": [
    "print(sample1)\n",
    "print(60*\"=\")\n",
    "print(sample2)\n",
    "print(60*\"=\")\n",
    "print(sample3)\n",
    "print(60*\"=\")\n",
    "print(sample4)"
   ]
  },
  {
   "cell_type": "code",
   "execution_count": 13,
   "id": "f8ef0cad",
   "metadata": {},
   "outputs": [],
   "source": [
    "mean_of_samples=[]\n",
    "\n",
    "all_sample=[sample1,sample2,sample3,sample4]\n",
    "\n",
    "for sample in all_sample:\n",
    "    mean_of_samples.append(np.mean(sample))"
   ]
  },
  {
   "cell_type": "code",
   "execution_count": 14,
   "id": "e34452c9",
   "metadata": {},
   "outputs": [
    {
     "data": {
      "text/plain": [
       "[14.9, 16.15, 14.95, 14.9]"
      ]
     },
     "execution_count": 14,
     "metadata": {},
     "output_type": "execute_result"
    }
   ],
   "source": [
    "mean_of_samples"
   ]
  },
  {
   "cell_type": "code",
   "execution_count": 15,
   "id": "3495581d",
   "metadata": {},
   "outputs": [],
   "source": [
    "# central limit theorem"
   ]
  },
  {
   "cell_type": "code",
   "execution_count": 16,
   "id": "afcb1006",
   "metadata": {},
   "outputs": [],
   "source": [
    "population=np.random.binomial(10,0.5,10000)"
   ]
  },
  {
   "cell_type": "code",
   "execution_count": 17,
   "id": "73096834",
   "metadata": {},
   "outputs": [
    {
     "name": "stdout",
     "output_type": "stream",
     "text": [
      "[5 7 4 ... 8 5 5]\n"
     ]
    }
   ],
   "source": [
    "print(population)"
   ]
  },
  {
   "cell_type": "code",
   "execution_count": 18,
   "id": "2938338d",
   "metadata": {},
   "outputs": [
    {
     "data": {
      "text/plain": [
       "10000"
      ]
     },
     "execution_count": 18,
     "metadata": {},
     "output_type": "execute_result"
    }
   ],
   "source": [
    "len(population)"
   ]
  },
  {
   "cell_type": "code",
   "execution_count": 19,
   "id": "3228b461",
   "metadata": {},
   "outputs": [
    {
     "data": {
      "text/plain": [
       "<AxesSubplot: ylabel='Density'>"
      ]
     },
     "execution_count": 19,
     "metadata": {},
     "output_type": "execute_result"
    },
    {
     "data": {
      "image/png": "[encoded data removed]",
      "text/plain": [
       "<Figure size 640x480 with 1 Axes>"
      ]
     },
     "metadata": {},
     "output_type": "display_data"
    }
   ],
   "source": [
    "import warnings\n",
    "\n",
    "warnings.filterwarnings(\"ignore\")\n",
    "\n",
    "import seaborn as sns\n",
    "\n",
    "sns.distplot(population)"
   ]
  },
  {
   "cell_type": "code",
   "execution_count": 20,
   "id": "01345e65",
   "metadata": {},
   "outputs": [
    {
     "data": {
      "text/plain": [
       "10000"
      ]
     },
     "execution_count": 20,
     "metadata": {},
     "output_type": "execute_result"
    }
   ],
   "source": [
    "len(population)"
   ]
  },
  {
   "cell_type": "code",
   "execution_count": 21,
   "id": "c294d9cb",
   "metadata": {},
   "outputs": [
    {
     "data": {
      "text/plain": [
       "3000"
      ]
     },
     "execution_count": 21,
     "metadata": {},
     "output_type": "execute_result"
    }
   ],
   "source": [
    "int(len(population)*0.30)"
   ]
  },
  {
   "cell_type": "code",
   "execution_count": 22,
   "id": "b370b180",
   "metadata": {},
   "outputs": [],
   "source": [
    "size=int(len(population)*0.30)"
   ]
  },
  {
   "cell_type": "code",
   "execution_count": 23,
   "id": "0ff770e8",
   "metadata": {},
   "outputs": [],
   "source": [
    "sample_mean=[]\n",
    "\n",
    "for i in range(1,31):\n",
    "    sample=np.random.choice(population,size=size)\n",
    "    sample_mean.append(np.mean(sample))"
   ]
  },
  {
   "cell_type": "code",
   "execution_count": 24,
   "id": "2c0fc12e",
   "metadata": {},
   "outputs": [
    {
     "data": {
      "text/plain": [
       "[5.0216666666666665,\n",
       " 5.050333333333334,\n",
       " 4.9976666666666665,\n",
       " 5.031,\n",
       " 5.086333333333333,\n",
       " 5.040333333333334,\n",
       " 4.963333333333333,\n",
       " 4.989333333333334,\n",
       " 5.000666666666667,\n",
       " 5.059,\n",
       " 5.046333333333333,\n",
       " 4.984666666666667,\n",
       " 5.007,\n",
       " 5.022,\n",
       " 5.015,\n",
       " 5.020333333333333,\n",
       " 4.993,\n",
       " 4.964333333333333,\n",
       " 4.993666666666667,\n",
       " 4.993666666666667,\n",
       " 5.010666666666666,\n",
       " 5.022333333333333,\n",
       " 4.958333333333333,\n",
       " 5.036666666666667,\n",
       " 5.024333333333334,\n",
       " 5.1146666666666665,\n",
       " 5.014,\n",
       " 5.016333333333334,\n",
       " 5.021,\n",
       " 5.023333333333333]"
      ]
     },
     "execution_count": 24,
     "metadata": {},
     "output_type": "execute_result"
    }
   ],
   "source": [
    "sample_mean"
   ]
  },
  {
   "cell_type": "code",
   "execution_count": 25,
   "id": "48fa6482",
   "metadata": {},
   "outputs": [
    {
     "data": {
      "text/plain": [
       "<AxesSubplot: ylabel='Density'>"
      ]
     },
     "execution_count": 25,
     "metadata": {},
     "output_type": "execute_result"
    },
    {
     "data": {
      "image/png": "[encoded data removed]",
      "text/plain": [
       "<Figure size 640x480 with 1 Axes>"
      ]
     },
     "metadata": {},
     "output_type": "display_data"
    }
   ],
   "source": [
    "sns.distplot(sample_mean)"
   ]
  },
  {
   "cell_type": "code",
   "execution_count": 26,
   "id": "0b23cdec",
   "metadata": {},
   "outputs": [],
   "source": [
    "sample_mean=[]\n",
    "\n",
    "for i in range(1,100):\n",
    "    sample=np.random.choice(population,size=size)\n",
    "    sample_mean.append(np.mean(sample))"
   ]
  },
  {
   "cell_type": "code",
   "execution_count": 27,
   "id": "2e061110",
   "metadata": {},
   "outputs": [
    {
     "data": {
      "text/plain": [
       "<AxesSubplot: ylabel='Density'>"
      ]
     },
     "execution_count": 27,
     "metadata": {},
     "output_type": "execute_result"
    },
    {
     "data": {
      "image/png": "[encoded data removed]",
      "text/plain": [
       "<Figure size 640x480 with 1 Axes>"
      ]
     },
     "metadata": {},
     "output_type": "display_data"
    }
   ],
   "source": [
    "sns.distplot(sample_mean)"
   ]
  },
  {
   "cell_type": "code",
   "execution_count": 28,
   "id": "86a9417f",
   "metadata": {},
   "outputs": [],
   "source": [
    "sample_mean=[]\n",
    "\n",
    "for i in range(1,500):\n",
    "    sample=np.random.choice(population,size=size)\n",
    "    sample_mean.append(np.mean(sample))"
   ]
  },
  {
   "cell_type": "code",
   "execution_count": 29,
   "id": "be94fe05",
   "metadata": {},
   "outputs": [
    {
     "data": {
      "text/plain": [
       "<AxesSubplot: ylabel='Density'>"
      ]
     },
     "execution_count": 29,
     "metadata": {},
     "output_type": "execute_result"
    },
    {
     "data": {
      "image/png": "[encoded data removed]",
      "text/plain": [
       "<Figure size 640x480 with 1 Axes>"
      ]
     },
     "metadata": {},
     "output_type": "display_data"
    }
   ],
   "source": [
    "sns.distplot(sample_mean,kde=True,color=\"red\")"
   ]
  },
  {
   "cell_type": "code",
   "execution_count": 30,
   "id": "3ecc8097",
   "metadata": {},
   "outputs": [],
   "source": [
    "sample_mean=[]\n",
    "\n",
    "for i in range(1,1000):\n",
    "    sample=np.random.choice(population,size=size)\n",
    "    sample_mean.append(np.mean(sample))"
   ]
  },
  {
   "cell_type": "code",
   "execution_count": 31,
   "id": "19032f55",
   "metadata": {},
   "outputs": [
    {
     "data": {
      "text/plain": [
       "<AxesSubplot: ylabel='Density'>"
      ]
     },
     "execution_count": 31,
     "metadata": {},
     "output_type": "execute_result"
    },
    {
     "data": {
      "image/png": "[encoded data removed]",
      "text/plain": [
       "<Figure size 640x480 with 1 Axes>"
      ]
     },
     "metadata": {},
     "output_type": "display_data"
    }
   ],
   "source": [
    "sns.distplot(sample_mean,kde=True,color=\"g\")"
   ]
  },
  {
   "cell_type": "code",
   "execution_count": 32,
   "id": "52637fda",
   "metadata": {},
   "outputs": [],
   "source": [
    "population=np.random.randint(10,20,50)"
   ]
  },
  {
   "cell_type": "code",
   "execution_count": 33,
   "id": "8a32d225",
   "metadata": {},
   "outputs": [
    {
     "data": {
      "text/plain": [
       "array([19, 19, 16, 12, 18, 14, 19, 12, 11, 18, 17, 17, 17, 13, 11, 19, 17,\n",
       "       13, 15, 12, 18, 13, 12, 13, 10, 16, 10, 17, 17, 17, 13, 14, 11, 18,\n",
       "       14, 10, 14, 13, 12, 10, 19, 18, 19, 19, 11, 19, 14, 11, 16, 13])"
      ]
     },
     "execution_count": 33,
     "metadata": {},
     "output_type": "execute_result"
    }
   ],
   "source": [
    "population"
   ]
  },
  {
   "cell_type": "code",
   "execution_count": 34,
   "id": "85ef1d20",
   "metadata": {},
   "outputs": [],
   "source": [
    "sample1=np.random.choice(population,20)\n",
    "sample2=np.random.choice(population,20)\n",
    "sample3=np.random.choice(population,20)\n",
    "sample4=np.random.choice(population,20)"
   ]
  },
  {
   "cell_type": "code",
   "execution_count": 35,
   "id": "d9c89b5c",
   "metadata": {},
   "outputs": [],
   "source": [
    "mean_of_samples=[]\n",
    "\n",
    "all_sample=[sample1,sample2,sample3,sample4]\n",
    "\n",
    "for sample in all_sample:\n",
    "    mean_of_samples.append(np.mean(sample))"
   ]
  },
  {
   "cell_type": "code",
   "execution_count": 36,
   "id": "859e71c8",
   "metadata": {},
   "outputs": [
    {
     "data": {
      "text/plain": [
       "5.015335001668334"
      ]
     },
     "execution_count": 36,
     "metadata": {},
     "output_type": "execute_result"
    }
   ],
   "source": [
    "np.mean(sample_mean)"
   ]
  },
  {
   "cell_type": "code",
   "execution_count": 37,
   "id": "b2d98ba3",
   "metadata": {},
   "outputs": [],
   "source": [
    "# Confidence interval and margin of error"
   ]
  },
  {
   "cell_type": "code",
   "execution_count": 38,
   "id": "ad3eb676",
   "metadata": {},
   "outputs": [],
   "source": [
    "import scipy.stats as stats"
   ]
  },
  {
   "cell_type": "code",
   "execution_count": 39,
   "id": "b730b4dc",
   "metadata": {},
   "outputs": [
    {
     "data": {
      "text/plain": [
       "1.6448536269514722"
      ]
     },
     "execution_count": 39,
     "metadata": {},
     "output_type": "execute_result"
    }
   ],
   "source": [
    "stats.norm.ppf(q=0.95) # ppf=probability density function"
   ]
  },
  {
   "cell_type": "code",
   "execution_count": 40,
   "id": "a20be473",
   "metadata": {},
   "outputs": [
    {
     "data": {
      "text/plain": [
       "1.959963984540054"
      ]
     },
     "execution_count": 40,
     "metadata": {},
     "output_type": "execute_result"
    }
   ],
   "source": [
    "stats.norm.ppf(q=0.975) #output is area under the curve"
   ]
  },
  {
   "cell_type": "code",
   "execution_count": 41,
   "id": "f12173c7",
   "metadata": {},
   "outputs": [
    {
     "data": {
      "text/plain": [
       "2.3263478740408408"
      ]
     },
     "execution_count": 41,
     "metadata": {},
     "output_type": "execute_result"
    }
   ],
   "source": [
    "stats.norm.ppf(q=0.99)"
   ]
  },
  {
   "cell_type": "code",
   "execution_count": 42,
   "id": "d007cba9",
   "metadata": {},
   "outputs": [],
   "source": [
    "z_critical=stats.norm.ppf(q=0.975) "
   ]
  },
  {
   "cell_type": "code",
   "execution_count": 43,
   "id": "f6ed1b17",
   "metadata": {},
   "outputs": [],
   "source": [
    "t_critical=stats.t.ppf(q=0.975,df=24) # T-Test"
   ]
  },
  {
   "cell_type": "code",
   "execution_count": 44,
   "id": "742406f3",
   "metadata": {},
   "outputs": [],
   "source": [
    "margin_of_error=z_critical*(np.std(mean_of_samples)/np.sqrt(20))"
   ]
  },
  {
   "cell_type": "code",
   "execution_count": 45,
   "id": "6140b840",
   "metadata": {},
   "outputs": [
    {
     "data": {
      "text/plain": [
       "14.536000180247589"
      ]
     },
     "execution_count": 45,
     "metadata": {},
     "output_type": "execute_result"
    }
   ],
   "source": [
    "np.mean(mean_of_samples)-margin_of_error"
   ]
  },
  {
   "cell_type": "code",
   "execution_count": 46,
   "id": "7cb6e518",
   "metadata": {},
   "outputs": [
    {
     "data": {
      "text/plain": [
       "14.688999819752409"
      ]
     },
     "execution_count": 46,
     "metadata": {},
     "output_type": "execute_result"
    }
   ],
   "source": [
    "np.mean(mean_of_samples)+margin_of_error"
   ]
  },
  {
   "cell_type": "code",
   "execution_count": 47,
   "id": "ce2249f9",
   "metadata": {},
   "outputs": [],
   "source": [
    "# Z-Test "
   ]
  },
  {
   "cell_type": "code",
   "execution_count": 48,
   "id": "b3793bdd",
   "metadata": {},
   "outputs": [],
   "source": [
    "from numpy.random import randn\n",
    "\n",
    "population=randn(100)"
   ]
  },
  {
   "cell_type": "code",
   "execution_count": 49,
   "id": "8399ec03",
   "metadata": {},
   "outputs": [
    {
     "data": {
      "text/plain": [
       "array([-0.69015892, -0.49278553,  0.11861335,  0.18702981,  1.27597728,\n",
       "       -1.18151215, -0.8148294 ,  0.27057468,  0.09300659, -0.51915323,\n",
       "       -0.37631494,  1.76283698,  0.23116943, -0.18934487, -0.03007503,\n",
       "       -1.58769947, -0.37693345, -1.23770902,  1.92561793,  0.61773005,\n",
       "       -0.8913108 ,  0.20321081, -0.2876167 , -0.50943138, -0.30381671,\n",
       "        1.0041203 , -0.74742889, -1.8952799 , -1.99861788,  0.08967672,\n",
       "        0.41662096, -0.83906501,  0.19295944, -0.04578708, -0.12448381,\n",
       "        1.84894457, -0.3612255 , -0.58275495,  0.42155796,  1.02031811,\n",
       "       -0.10662722,  0.81298238,  0.80122775,  0.76631078,  0.58769548,\n",
       "        0.15595852, -1.41778744,  0.04936151,  0.89038158,  0.25829157,\n",
       "       -0.66188397,  0.63734419,  0.20930954,  0.1736285 , -0.5634637 ,\n",
       "        1.33821068, -1.16715451, -0.72842837, -2.22291429, -0.99983369,\n",
       "       -0.53661303, -1.07346993, -0.48281536, -0.47160212,  0.27673351,\n",
       "        1.67139349,  1.80167658,  0.92907185,  0.67228812,  0.89589926,\n",
       "       -0.32952343,  0.49356071, -1.08335074, -1.88281948,  1.68487888,\n",
       "       -0.67470423, -0.12877191,  2.10595829, -1.46440005,  0.41574602,\n",
       "        0.81300721, -1.21859587, -1.01861812, -0.18204353,  1.45343778,\n",
       "       -0.84988241, -0.73915123,  0.65477859, -1.20141936,  0.06773468,\n",
       "        0.65294199,  0.48875795,  0.61692112,  0.48204797,  0.79896248,\n",
       "        1.35711321, -0.40229776, -0.01757734, -0.6847462 ,  0.53721954])"
      ]
     },
     "execution_count": 49,
     "metadata": {},
     "output_type": "execute_result"
    }
   ],
   "source": [
    "population"
   ]
  },
  {
   "cell_type": "code",
   "execution_count": 50,
   "id": "db684d29",
   "metadata": {},
   "outputs": [
    {
     "data": {
      "text/plain": [
       "<AxesSubplot: ylabel='Density'>"
      ]
     },
     "execution_count": 50,
     "metadata": {},
     "output_type": "execute_result"
    },
    {
     "data": {
      "image/png": "[encoded data removed]",
      "text/plain": [
       "<Figure size 640x480 with 1 Axes>"
      ]
     },
     "metadata": {},
     "output_type": "display_data"
    }
   ],
   "source": [
    "sns.distplot(population)"
   ]
  },
  {
   "cell_type": "code",
   "execution_count": 51,
   "id": "c5d544fb",
   "metadata": {},
   "outputs": [
    {
     "name": "stdout",
     "output_type": "stream",
     "text": [
      " Here is a mean of the population: -0.011630332011183908, Here is a standard deviation : 0.934394459784811\n"
     ]
    }
   ],
   "source": [
    "print(f\" Here is a mean of the population: {np.mean(population)}, Here is a standard deviation : {np.std(population)}\")"
   ]
  },
  {
   "cell_type": "code",
   "execution_count": 52,
   "id": "7065b105",
   "metadata": {},
   "outputs": [],
   "source": [
    "null_mean= 0.043 # mean of the population"
   ]
  },
  {
   "cell_type": "code",
   "execution_count": 53,
   "id": "9ffd1b77",
   "metadata": {},
   "outputs": [],
   "source": [
    "ALPHA=0.05"
   ]
  },
  {
   "cell_type": "code",
   "execution_count": 54,
   "id": "e8f8ee2b",
   "metadata": {},
   "outputs": [],
   "source": [
    " # C.I=95%\n",
    " # ALPHA=0.05(5%)\n",
    "\n",
    "# P<=0.05 REJECT THE NULL HYPOTHESIS\n",
    "# P>0.05 ACCEPT THE NULL HYPOTHESIS\n",
    "\n",
    "# P<=ALPHA\n",
    "# P>ALPHA"
   ]
  },
  {
   "cell_type": "code",
   "execution_count": 55,
   "id": "a3d282c9",
   "metadata": {},
   "outputs": [],
   "source": [
    "from statsmodels.stats.weightstats import ztest\n",
    "\n",
    "z_score,p_value=ztest(population,value=null_mean,alternative='larger') # alternative=\"larger\" is two tail test"
   ]
  },
  {
   "cell_type": "code",
   "execution_count": 56,
   "id": "846927be",
   "metadata": {},
   "outputs": [
    {
     "data": {
      "text/plain": [
       "0.7196255938449417"
      ]
     },
     "execution_count": 56,
     "metadata": {},
     "output_type": "execute_result"
    }
   ],
   "source": [
    "p_value"
   ]
  },
  {
   "cell_type": "code",
   "execution_count": 57,
   "id": "52368439",
   "metadata": {},
   "outputs": [
    {
     "name": "stdout",
     "output_type": "stream",
     "text": [
      "we are going to accept the null hypothesis\n"
     ]
    }
   ],
   "source": [
    "if (p_value<ALPHA):\n",
    "    print(\"reject the null hypothesis\")\n",
    "    \n",
    "else:\n",
    "    print(\"we are going to accept the null hypothesis\")"
   ]
  },
  {
   "cell_type": "code",
   "execution_count": null,
   "id": "a7d329a0",
   "metadata": {},
   "outputs": [],
   "source": []
  }
 ],
 "metadata": {
  "kernelspec": {
   "display_name": "Python 3 (ipykernel)",
   "language": "python",
   "name": "python3"
  },
  "language_info": {
   "codemirror_mode": {
    "name": "ipython",
    "version": 3
   },
   "file_extension": ".py",
   "mimetype": "text/x-python",
   "name": "python",
   "nbconvert_exporter": "python",
   "pygments_lexer": "ipython3",
   "version": "3.9.13"
  }
 },
 "nbformat": 4,
 "nbformat_minor": 5
}
